{
 "cells": [
  {
   "cell_type": "code",
   "execution_count": 1,
   "metadata": {},
   "outputs": [
    {
     "name": "stdout",
     "output_type": "stream",
     "text": [
      "Starting Spark application\n"
     ]
    },
    {
     "data": {
      "text/html": [
       "<table>\n",
       "<tr><th>ID</th><th>YARN Application ID</th><th>Kind</th><th>State</th><th>Spark UI</th><th>Driver log</th><th>Current session?</th></tr><tr><td>5</td><td>None</td><td>pyspark</td><td>idle</td><td></td><td></td><td>✔</td></tr></table>"
      ],
      "text/plain": [
       "<IPython.core.display.HTML object>"
      ]
     },
     "metadata": {},
     "output_type": "display_data"
    },
    {
     "name": "stdout",
     "output_type": "stream",
     "text": [
      "SparkSession available as 'spark'.\n"
     ]
    }
   ],
   "source": [
    "from pyspark.sql import SparkSession\n",
    "from pyspark.sql import DataFrame\n",
    "from pyspark.sql.types import *\n",
    "from pyspark.sql.functions import *"
   ]
  },
  {
   "cell_type": "code",
   "execution_count": 2,
   "metadata": {},
   "outputs": [
    {
     "name": "stdout",
     "output_type": "stream",
     "text": [
      "root\n",
      " |-- btid: string (nullable = true)\n",
      " |-- id_key: string (nullable = true)\n",
      " |-- id_value: string (nullable = true)\n",
      " |-- mtime: long (nullable = true)\n",
      " |-- operation: string (nullable = true)\n",
      " |-- organization: struct (nullable = true)\n",
      " |    |-- id: string (nullable = true)\n",
      " |    |-- type: string (nullable = true)\n",
      " |-- origin: string (nullable = true)\n",
      " |-- provided_to: array (nullable = true)\n",
      " |    |-- element: struct (containsNull = true)\n",
      " |    |    |-- id: string (nullable = true)\n",
      " |    |    |-- type: string (nullable = true)\n",
      " |-- region: string (nullable = true)\n",
      " |-- vbtid: string (nullable = true)\n",
      " |-- vendors_provided: array (nullable = true)\n",
      " |    |-- element: struct (containsNull = true)\n",
      " |    |    |-- id: string (nullable = true)\n",
      " |    |    |-- type: string (nullable = true)\n",
      "\n",
      "19190"
     ]
    }
   ],
   "source": [
    "df=spark.read.json(\"s3://<bucket>/uglyjson.json\")\n",
    "df.printSchema()\n",
    "df.count()"
   ]
  },
  {
   "cell_type": "code",
   "execution_count": 3,
   "metadata": {},
   "outputs": [],
   "source": [
    "#Identify the fields to flatten\n",
    "complex_fields = dict([(field.name, field.dataType)\n",
    "                             for field in df.schema.fields\n",
    "                             if type(field.dataType) == ArrayType or  type(field.dataType) == StructType])"
   ]
  },
  {
   "cell_type": "code",
   "execution_count": 4,
   "metadata": {},
   "outputs": [],
   "source": [
    "return_type = ArrayType(MapType(StringType(), StringType()))\n",
    "@udf(returnType=return_type)\n",
    "def extract_udf(column_value):\n",
    "    result=[]\n",
    "    for i in range(len(column_value)):\n",
    "       d={}\n",
    "       d[\"id\"]=column_value[i][0]\n",
    "       d[\"type\"]=column_value[i][1]\n",
    "       result.append(d)\n",
    "    if len(result)==0:\n",
    "       d={}\n",
    "       d[\"id\"]=\"\"\n",
    "       d[\"type\"]=\"\"\n",
    "       result.append(d)\n",
    "    return result"
   ]
  },
  {
   "cell_type": "code",
   "execution_count": 10,
   "metadata": {},
   "outputs": [
    {
     "name": "stdout",
     "output_type": "stream",
     "text": [
      "root\n",
      " |-- btid: string (nullable = true)\n",
      " |-- id_key: string (nullable = true)\n",
      " |-- id_value: string (nullable = true)\n",
      " |-- mtime: long (nullable = true)\n",
      " |-- operation: string (nullable = true)\n",
      " |-- organization: struct (nullable = true)\n",
      " |    |-- id: string (nullable = true)\n",
      " |    |-- type: string (nullable = true)\n",
      " |-- origin: string (nullable = true)\n",
      " |-- region: string (nullable = true)\n",
      " |-- vbtid: string (nullable = true)\n",
      " |-- vendors_provided: array (nullable = true)\n",
      " |    |-- element: struct (containsNull = true)\n",
      " |    |    |-- id: string (nullable = true)\n",
      " |    |    |-- type: string (nullable = true)\n",
      " |-- provided_to_id: string (nullable = true)\n",
      " |-- provided_to_type: string (nullable = true)"
     ]
    }
   ],
   "source": [
    "#df=df.limit(30)\n",
    "col_name='provided_to'\n",
    "df1=df.withColumn(col_name,explode(extract_udf(col_name)))\n",
    "expanded = [col(col_name).getItem(k).alias(col_name+'_'+k) for k in [ n.name for n in  complex_fields[col_name].elementType]]\n",
    "df2=df1.select(\"*\", *expanded).drop(col_name)\n",
    "df2.printSchema()"
   ]
  },
  {
   "cell_type": "code",
   "execution_count": 11,
   "metadata": {},
   "outputs": [
    {
     "name": "stdout",
     "output_type": "stream",
     "text": [
      "root\n",
      " |-- btid: string (nullable = true)\n",
      " |-- id_key: string (nullable = true)\n",
      " |-- id_value: string (nullable = true)\n",
      " |-- mtime: long (nullable = true)\n",
      " |-- operation: string (nullable = true)\n",
      " |-- organization: struct (nullable = true)\n",
      " |    |-- id: string (nullable = true)\n",
      " |    |-- type: string (nullable = true)\n",
      " |-- origin: string (nullable = true)\n",
      " |-- region: string (nullable = true)\n",
      " |-- vbtid: string (nullable = true)\n",
      " |-- provided_to_id: string (nullable = true)\n",
      " |-- provided_to_type: string (nullable = true)\n",
      " |-- vendors_provided_id: string (nullable = true)\n",
      " |-- vendors_provided_type: string (nullable = true)"
     ]
    }
   ],
   "source": [
    "col_name='vendors_provided'\n",
    "df3=df2.withColumn(col_name,explode(extract_udf(col_name)))\n",
    "expanded = [col(col_name).getItem(k).alias(col_name+'_'+k) for k in [ n.name for n in  complex_fields[col_name].elementType]]\n",
    "df3=df3.select(\"*\", *expanded).drop(col_name)\n",
    "df3.printSchema()"
   ]
  },
  {
   "cell_type": "code",
   "execution_count": 15,
   "metadata": {},
   "outputs": [
    {
     "name": "stdout",
     "output_type": "stream",
     "text": [
      "root\n",
      " |-- btid: string (nullable = true)\n",
      " |-- id_key: string (nullable = true)\n",
      " |-- id_value: string (nullable = true)\n",
      " |-- mtime: long (nullable = true)\n",
      " |-- operation: string (nullable = true)\n",
      " |-- origin: string (nullable = true)\n",
      " |-- region: string (nullable = true)\n",
      " |-- vbtid: string (nullable = true)\n",
      " |-- provided_to_id: string (nullable = true)\n",
      " |-- provided_to_type: string (nullable = true)\n",
      " |-- vendors_provided_id: string (nullable = true)\n",
      " |-- vendors_provided_type: string (nullable = true)\n",
      " |-- organization_id: string (nullable = true)\n",
      " |-- organization_type: string (nullable = true)"
     ]
    }
   ],
   "source": [
    "col_name='organization'\n",
    "expanded = [col(col_name+'.'+k).alias(col_name+'_'+k) for k in [ n.name for n in  complex_fields[col_name]]]\n",
    "df4=df3.select(\"*\", *expanded).drop(col_name)\n",
    "df4.printSchema()"
   ]
  },
  {
   "cell_type": "code",
   "execution_count": 14,
   "metadata": {},
   "outputs": [
    {
     "name": "stdout",
     "output_type": "stream",
     "text": [
      "+---------------+-----------------+--------------+----------------+-------------------+---------------------+\n",
      "|organization_id|organization_type|provided_to_id|provided_to_type|vendors_provided_id|vendors_provided_type|\n",
      "+---------------+-----------------+--------------+----------------+-------------------+---------------------+\n",
      "|sUAMimn        |vendor           |              |                |sUAMimn            |vendor               |\n",
      "|Q77GfSw        |contributor      |              |                |sUAMimn            |vendor               |\n",
      "|lo             |vendor           |Q77GfSw       |contributor     |lo                 |vendor               |\n",
      "|7sbtFLa        |vendor           |              |                |7sbtFLa            |vendor               |\n",
      "|c1RfDosd       |client           |c1RfDosd      |client          |7sbtFLa            |vendor               |\n",
      "|c0Rm1keP       |client           |c0Rm1keP      |client          |7sbtFLa            |vendor               |\n",
      "|7sbtFLa        |vendor           |              |                |7sbtFLa            |vendor               |\n",
      "|c0Rm1keP       |client           |c0Rm1keP      |client          |7sbtFLa            |vendor               |\n",
      "|toKCs04        |contributor      |              |                |                   |                     |\n",
      "|fuVjEBg        |vendor           |              |                |fuVjEBg            |vendor               |\n",
      "+---------------+-----------------+--------------+----------------+-------------------+---------------------+\n",
      "only showing top 10 rows"
     ]
    }
   ],
   "source": [
    "df4.select(\"organization_id\",\"organization_type\",\"provided_to_id\",\n",
    "           \"provided_to_type\",\"vendors_provided_id\",\"vendors_provided_type\").show(10,False)"
   ]
  },
  {
   "cell_type": "code",
   "execution_count": null,
   "metadata": {},
   "outputs": [],
   "source": []
  }
 ],
 "metadata": {
  "kernelspec": {
   "display_name": "Sparkmagic (PySpark)",
   "language": "",
   "name": "pysparkkernel"
  },
  "language_info": {
   "codemirror_mode": {
    "name": "python",
    "version": 2
   },
   "mimetype": "text/x-python",
   "name": "pyspark",
   "pygments_lexer": "python2"
  }
 },
 "nbformat": 4,
 "nbformat_minor": 2
}
