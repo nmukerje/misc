{
 "cells": [
  {
   "cell_type": "code",
   "execution_count": 1,
   "metadata": {},
   "outputs": [
    {
     "name": "stdout",
     "output_type": "stream",
     "text": [
      "Starting Spark application\n"
     ]
    },
    {
     "data": {
      "text/html": [
       "<table>\n",
       "<tr><th>ID</th><th>YARN Application ID</th><th>Kind</th><th>State</th><th>Spark UI</th><th>Driver log</th><th>Current session?</th></tr><tr><td>3</td><td>None</td><td>pyspark</td><td>idle</td><td></td><td></td><td>✔</td></tr></table>"
      ],
      "text/plain": [
       "<IPython.core.display.HTML object>"
      ]
     },
     "metadata": {},
     "output_type": "display_data"
    },
    {
     "name": "stdout",
     "output_type": "stream",
     "text": [
      "SparkSession available as 'spark'.\n"
     ]
    }
   ],
   "source": [
    "from pyspark.sql import SparkSession\n",
    "from pyspark.sql import DataFrame\n",
    "from pyspark.sql import Row\n",
    "from pyspark.sql.types import *\n",
    "from pyspark.sql.functions import *\n",
    "from functools import reduce\n",
    "from pyspark.sql.functions import col, when, lit"
   ]
  },
  {
   "cell_type": "code",
   "execution_count": 28,
   "metadata": {},
   "outputs": [],
   "source": [
    "#col_name='provided_to'\n",
    "col_name='vendors_provided'"
   ]
  },
  {
   "cell_type": "code",
   "execution_count": 54,
   "metadata": {},
   "outputs": [
    {
     "name": "stdout",
     "output_type": "stream",
     "text": [
      "root\n",
      " |-- btid: string (nullable = true)\n",
      " |-- id_key: string (nullable = true)\n",
      " |-- id_value: string (nullable = true)\n",
      " |-- mtime: long (nullable = true)\n",
      " |-- operation: string (nullable = true)\n",
      " |-- organization: struct (nullable = true)\n",
      " |    |-- id: string (nullable = true)\n",
      " |    |-- type: string (nullable = true)\n",
      " |-- origin: string (nullable = true)\n",
      " |-- provided_to: array (nullable = true)\n",
      " |    |-- element: struct (containsNull = true)\n",
      " |    |    |-- id: string (nullable = true)\n",
      " |    |    |-- type: string (nullable = true)\n",
      " |-- region: string (nullable = true)\n",
      " |-- vbtid: string (nullable = true)\n",
      " |-- vendors_provided: array (nullable = true)\n",
      " |    |-- element: struct (containsNull = true)\n",
      " |    |    |-- id: string (nullable = true)\n",
      " |    |    |-- type: string (nullable = true)\n",
      "\n",
      "19190"
     ]
    }
   ],
   "source": [
    "df=spark.read.json(\"s3://<bucket>/uglyjson.json\")\n",
    "df.printSchema()\n",
    "df.count()"
   ]
  },
  {
   "cell_type": "code",
   "execution_count": 57,
   "metadata": {},
   "outputs": [],
   "source": [
    "all_fields=[field.name for field in df.schema.fields]\n",
    "complex_fields = dict([(field.name, field.dataType)\n",
    "                             for field in df.schema.fields\n",
    "                             if type(field.dataType) == ArrayType or  type(field.dataType) == StructType])"
   ]
  },
  {
   "cell_type": "code",
   "execution_count": 10,
   "metadata": {},
   "outputs": [],
   "source": [
    "return_type = ArrayType(MapType(StringType(), StringType()))\n",
    "@udf(returnType=return_type)\n",
    "def extract_udf(column_value):\n",
    "    result=[]\n",
    "    for i in range(len(column_value)):\n",
    "       d={}\n",
    "       d[\"id\"]=column_value[i][0]\n",
    "       d[\"type\"]=column_value[i][1]\n",
    "       result.append(d)\n",
    "    if len(result)==0:\n",
    "       d={}\n",
    "       d[\"id\"]=\"\"\n",
    "       d[\"type\"]=\"\"\n",
    "       result.append(d)\n",
    "    return result"
   ]
  },
  {
   "cell_type": "code",
   "execution_count": 29,
   "metadata": {},
   "outputs": [
    {
     "name": "stdout",
     "output_type": "stream",
     "text": [
      "+------------------+\n",
      "|vendors_provided  |\n",
      "+------------------+\n",
      "|[[sUAMimn,vendor]]|\n",
      "|[[sUAMimn,vendor]]|\n",
      "|[[lo,vendor]]     |\n",
      "|[[7sbtFLa,vendor]]|\n",
      "|[[7sbtFLa,vendor]]|\n",
      "+------------------+"
     ]
    }
   ],
   "source": [
    "df2=df.limit(5)\n",
    "df3=df2.select(col_name)\n",
    "df3.show(5,False)"
   ]
  },
  {
   "cell_type": "code",
   "execution_count": 30,
   "metadata": {},
   "outputs": [
    {
     "name": "stdout",
     "output_type": "stream",
     "text": [
      "+----------------------------------+\n",
      "|vendors_provided                  |\n",
      "+----------------------------------+\n",
      "|Map(type -> vendor, id -> sUAMimn)|\n",
      "|Map(type -> vendor, id -> sUAMimn)|\n",
      "|Map(type -> vendor, id -> lo)     |\n",
      "|Map(type -> vendor, id -> 7sbtFLa)|\n",
      "|Map(type -> vendor, id -> 7sbtFLa)|\n",
      "+----------------------------------+"
     ]
    }
   ],
   "source": [
    "df4=df3.withColumn(col_name,explode(extract_udf(col_name)))\n",
    "df4.show(5,False)"
   ]
  },
  {
   "cell_type": "code",
   "execution_count": 33,
   "metadata": {},
   "outputs": [],
   "source": [
    "expanded = [col(col_name).getItem(k).alias(col_name+'.'+k) for k in [ n.name for n in  fields[col_name].elementType]]"
   ]
  },
  {
   "cell_type": "code",
   "execution_count": 34,
   "metadata": {},
   "outputs": [
    {
     "name": "stdout",
     "output_type": "stream",
     "text": [
      "+-------------------+---------------------+\n",
      "|vendors_provided.id|vendors_provided.type|\n",
      "+-------------------+---------------------+\n",
      "|sUAMimn            |vendor               |\n",
      "|sUAMimn            |vendor               |\n",
      "|lo                 |vendor               |\n",
      "|7sbtFLa            |vendor               |\n",
      "|7sbtFLa            |vendor               |\n",
      "+-------------------+---------------------+"
     ]
    }
   ],
   "source": [
    "df4.select(col_name, *expanded).drop(col_name).show(5,False)"
   ]
  },
  {
   "cell_type": "code",
   "execution_count": null,
   "metadata": {},
   "outputs": [],
   "source": [
    "col_names=['provided_to','vendors_provided']"
   ]
  },
  {
   "cell_type": "code",
   "execution_count": 69,
   "metadata": {
    "scrolled": true
   },
   "outputs": [
    {
     "name": "stdout",
     "output_type": "stream",
     "text": [
      "root\n",
      " |-- btid: string (nullable = true)\n",
      " |-- id_key: string (nullable = true)\n",
      " |-- id_value: string (nullable = true)\n",
      " |-- mtime: long (nullable = true)\n",
      " |-- operation: string (nullable = true)\n",
      " |-- organization: struct (nullable = true)\n",
      " |    |-- id: string (nullable = true)\n",
      " |    |-- type: string (nullable = true)\n",
      " |-- origin: string (nullable = true)\n",
      " |-- region: string (nullable = true)\n",
      " |-- vbtid: string (nullable = true)\n",
      " |-- vendors_provided: array (nullable = true)\n",
      " |    |-- element: struct (containsNull = true)\n",
      " |    |    |-- id: string (nullable = true)\n",
      " |    |    |-- type: string (nullable = true)\n",
      " |-- provided_to.id: string (nullable = true)\n",
      " |-- provided_to.type: string (nullable = true)"
     ]
    }
   ],
   "source": [
    "df_new=df.limit(50)\n",
    "col_name='provided_to'\n",
    "df_new1=df_new.withColumn(col_name,explode(extract_udf(col_name)))\n",
    "expanded = [col(col_name).getItem(k).alias(col_name+'.'+k) for k in [ n.name for n in  fields[col_name].elementType]]\n",
    "df_new2=df_new1.select(\"*\", *expanded).drop(col_name)\n",
    "df_new2.printSchema()"
   ]
  },
  {
   "cell_type": "code",
   "execution_count": 70,
   "metadata": {},
   "outputs": [
    {
     "name": "stdout",
     "output_type": "stream",
     "text": [
      "root\n",
      " |-- btid: string (nullable = true)\n",
      " |-- id_key: string (nullable = true)\n",
      " |-- id_value: string (nullable = true)\n",
      " |-- mtime: long (nullable = true)\n",
      " |-- operation: string (nullable = true)\n",
      " |-- organization: struct (nullable = true)\n",
      " |    |-- id: string (nullable = true)\n",
      " |    |-- type: string (nullable = true)\n",
      " |-- origin: string (nullable = true)\n",
      " |-- region: string (nullable = true)\n",
      " |-- vbtid: string (nullable = true)\n",
      " |-- provided_to.id: string (nullable = true)\n",
      " |-- provided_to.type: string (nullable = true)\n",
      " |-- vendors_provided.id: string (nullable = true)\n",
      " |-- vendors_provided.type: string (nullable = true)"
     ]
    }
   ],
   "source": [
    "col_name='vendors_provided'\n",
    "df_new3=df_new2.withColumn(col_name,explode(extract_udf(col_name)))\n",
    "expanded = [col(col_name).getItem(k).alias(col_name+'.'+k) for k in [ n.name for n in  fields[col_name].elementType]]\n",
    "df_new3=df_new3.select(\"*\", *expanded).drop(col_name)\n",
    "df_new3.printSchema()"
   ]
  },
  {
   "cell_type": "code",
   "execution_count": 81,
   "metadata": {},
   "outputs": [
    {
     "name": "stdout",
     "output_type": "stream",
     "text": [
      "[Column<organization.id AS `organization.id`>, Column<organization.type AS `organization.type`>]\n",
      "root\n",
      " |-- btid: string (nullable = true)\n",
      " |-- id_key: string (nullable = true)\n",
      " |-- id_value: string (nullable = true)\n",
      " |-- mtime: long (nullable = true)\n",
      " |-- operation: string (nullable = true)\n",
      " |-- origin: string (nullable = true)\n",
      " |-- region: string (nullable = true)\n",
      " |-- vbtid: string (nullable = true)\n",
      " |-- provided_to.id: string (nullable = true)\n",
      " |-- provided_to.type: string (nullable = true)\n",
      " |-- vendors_provided.id: string (nullable = true)\n",
      " |-- vendors_provided.type: string (nullable = true)\n",
      " |-- organization.id: string (nullable = true)\n",
      " |-- organization.type: string (nullable = true)"
     ]
    }
   ],
   "source": [
    "col_name='organization'\n",
    "expanded = [col(col_name+'.'+k).alias(col_name+'.'+k) for k in [ n.name for n in  fields[col_name]]]\n",
    "print (expanded)\n",
    "df_new4=df_new3.select(\"*\", *expanded).drop(col_name)\n",
    "df_new4.printSchema()"
   ]
  },
  {
   "cell_type": "code",
   "execution_count": null,
   "metadata": {},
   "outputs": [],
   "source": []
  }
 ],
 "metadata": {
  "kernelspec": {
   "display_name": "Sparkmagic (PySpark)",
   "language": "",
   "name": "pysparkkernel"
  },
  "language_info": {
   "codemirror_mode": {
    "name": "python",
    "version": 2
   },
   "mimetype": "text/x-python",
   "name": "pyspark",
   "pygments_lexer": "python2"
  }
 },
 "nbformat": 4,
 "nbformat_minor": 2
}
