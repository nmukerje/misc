{
 "cells": [
  {
   "cell_type": "markdown",
   "metadata": {},
   "source": [
    "### Initialize Spark Session"
   ]
  },
  {
   "cell_type": "code",
   "execution_count": 1,
   "metadata": {
    "ExecuteTime": {
     "end_time": "2020-08-21T01:20:31.479829Z",
     "start_time": "2020-08-21T01:20:31.459775Z"
    }
   },
   "outputs": [
    {
     "data": {
      "text/html": [
       "Current session configs: <tt>{'conf': {'spark.jars.packages': 'com.databricks:spark-xml_2.10:0.4.1'}, 'kind': 'spark'}</tt><br>"
      ],
      "text/plain": [
       "<IPython.core.display.HTML object>"
      ]
     },
     "metadata": {},
     "output_type": "display_data"
    },
    {
     "data": {
      "text/html": [
       "No active sessions."
      ],
      "text/plain": [
       "<IPython.core.display.HTML object>"
      ]
     },
     "metadata": {},
     "output_type": "display_data"
    }
   ],
   "source": [
    "%%configure -f\n",
    "{ \"conf\": {\"spark.jars.packages\": \"com.databricks:spark-xml_2.10:0.4.1\" }}"
   ]
  },
  {
   "cell_type": "markdown",
   "metadata": {},
   "source": [
    "## Handling xsi:nil attribute as null"
   ]
  },
  {
   "cell_type": "markdown",
   "metadata": {},
   "source": [
    "Our XML input looks like below.\n",
    "\n",
    "Contains a nested nested list of structs 'nls' field.\n",
    "One of the fields in the structs complex_fields.keys.head has xsi:nil=\"true\" and the other has nf11 populated.\n",
    "\n",
    "```\n",
    "<root>\n",
    "<record>\n",
    "    <id>1</id>\n",
    "    <nls>\n",
    "       <ns2>\n",
    "          <nf11 xsi:nil=\"true\"/>\n",
    "          <nf12>nf12</nf12>\n",
    "       </ns2>\n",
    "       <ns2>\n",
    "          <nf11>nf11</nf11>\n",
    "          <nf13>nf13</nf13>\n",
    "       </ns2>\n",
    "    </nls>\n",
    "</record>\n",
    "<record>\n",
    "    <id>2</id>\n",
    "</record>\n",
    "</root>\n",
    "\n",
    "```"
   ]
  },
  {
   "cell_type": "markdown",
   "metadata": {},
   "source": [
    "### Read Input File"
   ]
  },
  {
   "cell_type": "code",
   "execution_count": 2,
   "metadata": {
    "ExecuteTime": {
     "end_time": "2020-08-21T01:21:03.243843Z",
     "start_time": "2020-08-21T01:20:35.928583Z"
    }
   },
   "outputs": [
    {
     "name": "stdout",
     "output_type": "stream",
     "text": [
      "Starting Spark application\n"
     ]
    },
    {
     "data": {
      "text/html": [
       "<table>\n",
       "<tr><th>ID</th><th>YARN Application ID</th><th>Kind</th><th>State</th><th>Spark UI</th><th>Driver log</th><th>Current session?</th></tr><tr><td>15</td><td>application_1597770352735_0016</td><td>spark</td><td>idle</td><td><a target=\"_blank\" href=\"http://ip-172-31-36-133.us-west-2.compute.internal:20888/proxy/application_1597770352735_0016/\">Link</a></td><td><a target=\"_blank\" href=\"http://ip-172-31-41-228.us-west-2.compute.internal:8042/node/containerlogs/container_1597770352735_0016_01_000001/livy\">Link</a></td><td>✔</td></tr></table>"
      ],
      "text/plain": [
       "<IPython.core.display.HTML object>"
      ]
     },
     "metadata": {},
     "output_type": "display_data"
    },
    {
     "data": {
      "application/vnd.jupyter.widget-view+json": {
       "model_id": "",
       "version_major": 2,
       "version_minor": 0
      },
      "text/plain": [
       "FloatProgress(value=0.0, bar_style='info', description='Progress:', layout=Layout(height='25px', width='50%'),…"
      ]
     },
     "metadata": {},
     "output_type": "display_data"
    },
    {
     "name": "stdout",
     "output_type": "stream",
     "text": [
      "SparkSession available as 'spark'.\n"
     ]
    },
    {
     "data": {
      "application/vnd.jupyter.widget-view+json": {
       "model_id": "",
       "version_major": 2,
       "version_minor": 0
      },
      "text/plain": [
       "FloatProgress(value=0.0, bar_style='info', description='Progress:', layout=Layout(height='25px', width='50%'),…"
      ]
     },
     "metadata": {},
     "output_type": "display_data"
    },
    {
     "name": "stdout",
     "output_type": "stream",
     "text": [
      "df: org.apache.spark.sql.DataFrame = [id: bigint, nls: struct<ns2: array<struct<nf11:struct<_VALUE:string,_nil:boolean>,nf12:string,nf13:string>>>]\n",
      "root\n",
      " |-- id: long (nullable = true)\n",
      " |-- nls: struct (nullable = true)\n",
      " |    |-- ns2: array (nullable = true)\n",
      " |    |    |-- element: struct (containsNull = true)\n",
      " |    |    |    |-- nf11: struct (nullable = true)\n",
      " |    |    |    |    |-- _VALUE: string (nullable = true)\n",
      " |    |    |    |    |-- _nil: boolean (nullable = true)\n",
      " |    |    |    |-- nf12: string (nullable = true)\n",
      " |    |    |    |-- nf13: string (nullable = true)\n",
      "\n",
      "2"
     ]
    }
   ],
   "source": [
    "var df = spark.read.format(\"xml\").option(\"rowTag\",\"record\").load(\"s3://bucket/xml/sample_nil.xml\")\n",
    "df.printSchema()\n",
    "print (df.count())"
   ]
  },
  {
   "cell_type": "code",
   "execution_count": 3,
   "metadata": {
    "ExecuteTime": {
     "end_time": "2020-08-21T01:21:03.978198Z",
     "start_time": "2020-08-21T01:21:03.245830Z"
    }
   },
   "outputs": [
    {
     "data": {
      "application/vnd.jupyter.widget-view+json": {
       "model_id": "",
       "version_major": 2,
       "version_minor": 0
      },
      "text/plain": [
       "FloatProgress(value=0.0, bar_style='info', description='Progress:', layout=Layout(height='25px', width='50%'),…"
      ]
     },
     "metadata": {},
     "output_type": "display_data"
    },
    {
     "name": "stdout",
     "output_type": "stream",
     "text": [
      "res3: Array[org.apache.spark.sql.types.StructField] = Array(StructField(id,LongType,true), StructField(nls,StructType(StructField(ns2,ArrayType(StructType(StructField(nf11,StructType(StructField(_VALUE,StringType,true), StructField(_nil,BooleanType,true)),true), StructField(nf12,StringType,true), StructField(nf13,StringType,true)),true),true)),true))\n"
     ]
    }
   ],
   "source": [
    "df.schema.fields"
   ]
  },
  {
   "cell_type": "markdown",
   "metadata": {},
   "source": [
    "### Flatten the Dataframe"
   ]
  },
  {
   "cell_type": "code",
   "execution_count": 4,
   "metadata": {
    "ExecuteTime": {
     "end_time": "2020-08-21T01:21:20.777418Z",
     "start_time": "2020-08-21T01:21:18.531347Z"
    }
   },
   "outputs": [
    {
     "data": {
      "application/vnd.jupyter.widget-view+json": {
       "model_id": "",
       "version_major": 2,
       "version_minor": 0
      },
      "text/plain": [
       "FloatProgress(value=0.0, bar_style='info', description='Progress:', layout=Layout(height='25px', width='50%'),…"
      ]
     },
     "metadata": {},
     "output_type": "display_data"
    },
    {
     "name": "stdout",
     "output_type": "stream",
     "text": [
      "import spark.implicits._\n",
      "import org.apache.spark.sql._\n",
      "import org.apache.spark.sql.types._\n",
      "flatten: (df: org.apache.spark.sql.DataFrame)org.apache.spark.sql.DataFrame\n"
     ]
    }
   ],
   "source": [
    "import spark.implicits._\n",
    "import org.apache.spark.sql._\n",
    "import org.apache.spark.sql.types._\n",
    "\n",
    "\n",
    "def flatten(df: DataFrame): DataFrame = {\n",
    "   var input_df=df \n",
    "   var complex_fields = input_df.schema.fields.collect{\n",
    "      case f if (f.dataType.isInstanceOf[ArrayType] || f.dataType.isInstanceOf[StructType]) => (f.name, f.dataType)\n",
    "   }.toMap\n",
    "   print (complex_fields)\n",
    "   \n",
    "   while (complex_fields.size!=0) {\n",
    "    \n",
    "      var col_name=complex_fields.keys.head\n",
    "      print (\"\\n Processing : \"+col_name+\", Type : \"+complex_fields(col_name).getClass)\n",
    "\n",
    "      if (complex_fields(col_name).isInstanceOf[StructType]){\n",
    "         var expanded=complex_fields(col_name).asInstanceOf[StructType].fields\n",
    "          .map(_.name)\n",
    "          // ignore the _nil attribute and read the _VALUE attribute only\n",
    "          .filterNot(x=>x.endsWith(\"_nil\"))\n",
    "          .map(c=>col(col_name+'.'+c).alias(col_name+'_'+c))\n",
    "         print (\"\\n \"+expanded) \n",
    "         input_df=input_df.select(input_df.columns.map(input_df(_)) ++ expanded:_*).drop(col_name)\n",
    "      }\n",
    "      else if (complex_fields(col_name).isInstanceOf[ArrayType]){\n",
    "         input_df=input_df.withColumn(col_name,explode_outer(col(col_name)))\n",
    "      }\n",
    "\n",
    "      //recompute remaining Complex Fields in Schema \n",
    "      complex_fields = input_df.schema.fields.collect{\n",
    "         case f if (f.dataType.isInstanceOf[ArrayType] || f.dataType.isInstanceOf[StructType]) => (f.name, f.dataType)\n",
    "      }.toMap\n",
    "   }\n",
    "   // return final flattened dataframe \n",
    "   // Truncate __VALUE from column names if it exists. \n",
    "   var newNames=input_df.schema.fields.map(_.name).map(c=>if (c.endsWith(\"__VALUE\")) c.dropRight(7) else c)\n",
    "   return input_df.toDF(newNames: _*)\n",
    "}\n"
   ]
  },
  {
   "cell_type": "code",
   "execution_count": 5,
   "metadata": {
    "ExecuteTime": {
     "end_time": "2020-08-21T01:21:24.375805Z",
     "start_time": "2020-08-21T01:21:21.122094Z"
    }
   },
   "outputs": [
    {
     "data": {
      "application/vnd.jupyter.widget-view+json": {
       "model_id": "",
       "version_major": 2,
       "version_minor": 0
      },
      "text/plain": [
       "FloatProgress(value=0.0, bar_style='info', description='Progress:', layout=Layout(height='25px', width='50%'),…"
      ]
     },
     "metadata": {},
     "output_type": "display_data"
    },
    {
     "name": "stdout",
     "output_type": "stream",
     "text": [
      "Map(nls -> StructType(StructField(ns2,ArrayType(StructType(StructField(nf11,StructType(StructField(_VALUE,StringType,true), StructField(_nil,BooleanType,true)),true), StructField(nf12,StringType,true), StructField(nf13,StringType,true)),true),true)))\n",
      " Processing : nls, Type : class org.apache.spark.sql.types.StructType\n",
      " [Lorg.apache.spark.sql.Column;@631f3727\n",
      " Processing : nls_ns2, Type : class org.apache.spark.sql.types.ArrayType\n",
      " Processing : nls_ns2, Type : class org.apache.spark.sql.types.StructType\n",
      " [Lorg.apache.spark.sql.Column;@e2fb44b\n",
      " Processing : nls_ns2_nf11, Type : class org.apache.spark.sql.types.StructType\n",
      " [Lorg.apache.spark.sql.Column;@5413c226flattened_df: org.apache.spark.sql.DataFrame = [id: bigint, nls_ns2_nf12: string ... 2 more fields]\n",
      "root\n",
      " |-- id: long (nullable = true)\n",
      " |-- nls_ns2_nf12: string (nullable = true)\n",
      " |-- nls_ns2_nf13: string (nullable = true)\n",
      " |-- nls_ns2_nf11: string (nullable = true)\n",
      "\n",
      "3+---+------------+------------+------------+\n",
      "| id|nls_ns2_nf12|nls_ns2_nf13|nls_ns2_nf11|\n",
      "+---+------------+------------+------------+\n",
      "|  1|        nf12|        null|        null|\n",
      "|  1|        null|        nf13|        nf11|\n",
      "|  2|        null|        null|        null|\n",
      "+---+------------+------------+------------+\n",
      "\n"
     ]
    }
   ],
   "source": [
    "var flattened_df=flatten(df)\n",
    "flattened_df.printSchema()\n",
    "print (flattened_df.count())\n",
    "flattened_df.show(20)"
   ]
  },
  {
   "cell_type": "markdown",
   "metadata": {},
   "source": [
    "Observe the our dataframe is now flattened. \n",
    "\n",
    "nls_ns2_nf11 has null in the 1st record, value 'nf11' in the 2nd record and is null in the 3rd record."
   ]
  },
  {
   "cell_type": "markdown",
   "metadata": {},
   "source": [
    "## Handling multiple nested lists"
   ]
  },
  {
   "cell_type": "markdown",
   "metadata": {},
   "source": [
    "```\n",
    "<root>\n",
    "<record>\n",
    "    <id>1</id>\n",
    "    <nls>\n",
    "       <ns2>\n",
    "          <nf11 xsi:nil=\"true\"/>\n",
    "          <nf12>nf12</nf12>\n",
    "       </ns2>\n",
    "       <ns2>\n",
    "          <nf11>nf11</nf11>\n",
    "          <nf13>nf13</nf13>\n",
    "       </ns2>\n",
    "    </nls>\n",
    "    <nls1>\n",
    "       <ns2>\n",
    "          <nf11 xsi:nil=\"true\"/>\n",
    "          <nf12>nf12</nf12>\n",
    "       </ns2>\n",
    "       <ns2>\n",
    "          <nf11>nf11</nf11>\n",
    "          <nf13>nf13</nf13>\n",
    "       </ns2>\n",
    "    </nls1>\n",
    "</record>\n",
    "</root>\n",
    "```"
   ]
  },
  {
   "cell_type": "code",
   "execution_count": 6,
   "metadata": {
    "ExecuteTime": {
     "end_time": "2020-08-21T01:21:40.277667Z",
     "start_time": "2020-08-21T01:21:39.037288Z"
    }
   },
   "outputs": [
    {
     "data": {
      "application/vnd.jupyter.widget-view+json": {
       "model_id": "",
       "version_major": 2,
       "version_minor": 0
      },
      "text/plain": [
       "FloatProgress(value=0.0, bar_style='info', description='Progress:', layout=Layout(height='25px', width='50%'),…"
      ]
     },
     "metadata": {},
     "output_type": "display_data"
    },
    {
     "name": "stdout",
     "output_type": "stream",
     "text": [
      "df: org.apache.spark.sql.DataFrame = [id: bigint, nls: struct<ns2: array<struct<nf11:struct<_VALUE:string,_nil:boolean>,nf12:string,nf13:string>>> ... 1 more field]\n",
      "root\n",
      " |-- id: long (nullable = true)\n",
      " |-- nls: struct (nullable = true)\n",
      " |    |-- ns2: array (nullable = true)\n",
      " |    |    |-- element: struct (containsNull = true)\n",
      " |    |    |    |-- nf11: struct (nullable = true)\n",
      " |    |    |    |    |-- _VALUE: string (nullable = true)\n",
      " |    |    |    |    |-- _nil: boolean (nullable = true)\n",
      " |    |    |    |-- nf12: string (nullable = true)\n",
      " |    |    |    |-- nf13: string (nullable = true)\n",
      " |-- nls1: struct (nullable = true)\n",
      " |    |-- ns2: array (nullable = true)\n",
      " |    |    |-- element: struct (containsNull = true)\n",
      " |    |    |    |-- nf11: struct (nullable = true)\n",
      " |    |    |    |    |-- _VALUE: string (nullable = true)\n",
      " |    |    |    |    |-- _nil: boolean (nullable = true)\n",
      " |    |    |    |-- nf12: string (nullable = true)\n",
      " |    |    |    |-- nf13: string (nullable = true)\n",
      "\n",
      "1"
     ]
    }
   ],
   "source": [
    "var df = spark.read.format(\"xml\").option(\"rowTag\",\"record\").load(\"s3://bucket/xml/sample_multiple_nested_lists.xml\")\n",
    "df.printSchema()\n",
    "print (df.count())"
   ]
  },
  {
   "cell_type": "code",
   "execution_count": 7,
   "metadata": {
    "ExecuteTime": {
     "end_time": "2020-08-21T01:21:45.338767Z",
     "start_time": "2020-08-21T01:21:43.092758Z"
    }
   },
   "outputs": [
    {
     "data": {
      "application/vnd.jupyter.widget-view+json": {
       "model_id": "",
       "version_major": 2,
       "version_minor": 0
      },
      "text/plain": [
       "FloatProgress(value=0.0, bar_style='info', description='Progress:', layout=Layout(height='25px', width='50%'),…"
      ]
     },
     "metadata": {},
     "output_type": "display_data"
    },
    {
     "name": "stdout",
     "output_type": "stream",
     "text": [
      "Map(nls -> StructType(StructField(ns2,ArrayType(StructType(StructField(nf11,StructType(StructField(_VALUE,StringType,true), StructField(_nil,BooleanType,true)),true), StructField(nf12,StringType,true), StructField(nf13,StringType,true)),true),true)), nls1 -> StructType(StructField(ns2,ArrayType(StructType(StructField(nf11,StructType(StructField(_VALUE,StringType,true), StructField(_nil,BooleanType,true)),true), StructField(nf12,StringType,true), StructField(nf13,StringType,true)),true),true)))\n",
      " Processing : nls, Type : class org.apache.spark.sql.types.StructType\n",
      " [Lorg.apache.spark.sql.Column;@72d2c375\n",
      " Processing : nls1, Type : class org.apache.spark.sql.types.StructType\n",
      " [Lorg.apache.spark.sql.Column;@c408a73\n",
      " Processing : nls_ns2, Type : class org.apache.spark.sql.types.ArrayType\n",
      " Processing : nls_ns2, Type : class org.apache.spark.sql.types.StructType\n",
      " [Lorg.apache.spark.sql.Column;@59542c4f\n",
      " Processing : nls1_ns2, Type : class org.apache.spark.sql.types.ArrayType\n",
      " Processing : nls1_ns2, Type : class org.apache.spark.sql.types.StructType\n",
      " [Lorg.apache.spark.sql.Column;@2b3fc059\n",
      " Processing : nls_ns2_nf11, Type : class org.apache.spark.sql.types.StructType\n",
      " [Lorg.apache.spark.sql.Column;@18bb60fa\n",
      " Processing : nls1_ns2_nf11, Type : class org.apache.spark.sql.types.StructType\n",
      " [Lorg.apache.spark.sql.Column;@2c386f83flattened_df: org.apache.spark.sql.DataFrame = [id: bigint, nls_ns2_nf12: string ... 5 more fields]\n",
      "root\n",
      " |-- id: long (nullable = true)\n",
      " |-- nls_ns2_nf12: string (nullable = true)\n",
      " |-- nls_ns2_nf13: string (nullable = true)\n",
      " |-- nls1_ns2_nf12: string (nullable = true)\n",
      " |-- nls1_ns2_nf13: string (nullable = true)\n",
      " |-- nls_ns2_nf11: string (nullable = true)\n",
      " |-- nls1_ns2_nf11: string (nullable = true)\n",
      "\n",
      "4+---+------------+------------+-------------+-------------+------------+-------------+\n",
      "| id|nls_ns2_nf12|nls_ns2_nf13|nls1_ns2_nf12|nls1_ns2_nf13|nls_ns2_nf11|nls1_ns2_nf11|\n",
      "+---+------------+------------+-------------+-------------+------------+-------------+\n",
      "|  1|        nf12|        null|         nf12|         null|        null|         null|\n",
      "|  1|        nf12|        null|         null|         nf13|        null|         nf11|\n",
      "|  1|        null|        nf13|         nf12|         null|        nf11|         null|\n",
      "|  1|        null|        nf13|         null|         nf13|        nf11|         nf11|\n",
      "+---+------------+------------+-------------+-------------+------------+-------------+\n",
      "\n"
     ]
    }
   ],
   "source": [
    "var flattened_df=flatten(df)\n",
    "flattened_df.printSchema()\n",
    "print (flattened_df.count())\n",
    "flattened_df.show(20)"
   ]
  },
  {
   "cell_type": "markdown",
   "metadata": {},
   "source": [
    "As expected, there are 4 records."
   ]
  },
  {
   "cell_type": "code",
   "execution_count": null,
   "metadata": {},
   "outputs": [],
   "source": []
  }
 ],
 "metadata": {
  "kernelspec": {
   "display_name": "Sparkmagic (Spark)",
   "language": "",
   "name": "sparkkernel"
  },
  "language_info": {
   "codemirror_mode": "text/x-scala",
   "mimetype": "text/x-scala",
   "name": "scala",
   "pygments_lexer": "scala"
  }
 },
 "nbformat": 4,
 "nbformat_minor": 4
}
