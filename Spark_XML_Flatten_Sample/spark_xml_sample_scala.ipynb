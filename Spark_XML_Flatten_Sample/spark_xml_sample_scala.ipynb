{
 "cells": [
  {
   "cell_type": "markdown",
   "metadata": {},
   "source": [
    "### Initialize Spark Session"
   ]
  },
  {
   "cell_type": "code",
   "execution_count": 1,
   "metadata": {
    "ExecuteTime": {
     "end_time": "2020-08-19T03:10:37.008698Z",
     "start_time": "2020-08-19T03:10:36.988525Z"
    }
   },
   "outputs": [
    {
     "data": {
      "text/html": [
       "Current session configs: <tt>{'conf': {'spark.jars.packages': 'com.databricks:spark-xml_2.10:0.4.1'}, 'kind': 'spark'}</tt><br>"
      ],
      "text/plain": [
       "<IPython.core.display.HTML object>"
      ]
     },
     "metadata": {},
     "output_type": "display_data"
    },
    {
     "data": {
      "text/html": [
       "No active sessions."
      ],
      "text/plain": [
       "<IPython.core.display.HTML object>"
      ]
     },
     "metadata": {},
     "output_type": "display_data"
    }
   ],
   "source": [
    "%%configure -f\n",
    "{ \"conf\": {\"spark.jars.packages\": \"com.databricks:spark-xml_2.10:0.4.1\" }}"
   ]
  },
  {
   "cell_type": "markdown",
   "metadata": {},
   "source": [
    "Our XML input looks like below.\n",
    "\n",
    "Contains a nested struct field 'ns' as well as a nested list of structs 'nls' field.\n",
    "\n",
    "```\n",
    "<?xml version=\"1.0\" encoding=\"UTF-8\"?>\n",
    "<root>\n",
    "   <record attribute1=\"AAAA\">\n",
    "      <field1>1</field1>\n",
    "      <field2>three</field2>\n",
    "      <ns>\n",
    "         <nf1>nf1</nf1>\n",
    "         <nf2>nf2</nf2>\n",
    "         <nf3>nf3</nf3>\n",
    "      </ns>\n",
    "      <nls>\n",
    "         <ns2>\n",
    "            <nf11>nf11</nf11>\n",
    "            <nf12>nf12</nf12>\n",
    "         </ns2>\n",
    "         <ns2>\n",
    "            <nf13>nf13</nf13>\n",
    "         </ns2>\n",
    "      </nls>\n",
    "   </record>\n",
    "   <record attribute1=\"AAAA\">\n",
    "      <field1>2</field1>\n",
    "      <field2>three</field2>\n",
    "   </record>\n",
    "   <record attribute1=\"AAAA\">\n",
    "      <field1>3</field1>\n",
    "      <field2>three</field2>\n",
    "   </record>\n",
    "   <record attribute1=\"AAAA\">\n",
    "      <field1>4</field1>\n",
    "      <field2>three</field2>\n",
    "   </record>\n",
    "</root>\n",
    "```"
   ]
  },
  {
   "cell_type": "markdown",
   "metadata": {},
   "source": [
    "### Read Input File"
   ]
  },
  {
   "cell_type": "code",
   "execution_count": 2,
   "metadata": {
    "ExecuteTime": {
     "end_time": "2020-08-19T03:11:09.416230Z",
     "start_time": "2020-08-19T03:10:40.098315Z"
    }
   },
   "outputs": [
    {
     "name": "stdout",
     "output_type": "stream",
     "text": [
      "Starting Spark application\n"
     ]
    },
    {
     "data": {
      "text/html": [
       "<table>\n",
       "<tr><th>ID</th><th>YARN Application ID</th><th>Kind</th><th>State</th><th>Spark UI</th><th>Driver log</th><th>Current session?</th></tr><tr><td>5</td><td>application_1597770352735_0006</td><td>spark</td><td>idle</td><td><a target=\"_blank\" href=\"http://ip-172-31-36-133.us-west-2.compute.internal:20888/proxy/application_1597770352735_0006/\">Link</a></td><td><a target=\"_blank\" href=\"http://ip-172-31-41-228.us-west-2.compute.internal:8042/node/containerlogs/container_1597770352735_0006_01_000001/livy\">Link</a></td><td>✔</td></tr></table>"
      ],
      "text/plain": [
       "<IPython.core.display.HTML object>"
      ]
     },
     "metadata": {},
     "output_type": "display_data"
    },
    {
     "data": {
      "application/vnd.jupyter.widget-view+json": {
       "model_id": "",
       "version_major": 2,
       "version_minor": 0
      },
      "text/plain": [
       "FloatProgress(value=0.0, bar_style='info', description='Progress:', layout=Layout(height='25px', width='50%'),…"
      ]
     },
     "metadata": {},
     "output_type": "display_data"
    },
    {
     "name": "stdout",
     "output_type": "stream",
     "text": [
      "SparkSession available as 'spark'.\n"
     ]
    },
    {
     "data": {
      "application/vnd.jupyter.widget-view+json": {
       "model_id": "",
       "version_major": 2,
       "version_minor": 0
      },
      "text/plain": [
       "FloatProgress(value=0.0, bar_style='info', description='Progress:', layout=Layout(height='25px', width='50%'),…"
      ]
     },
     "metadata": {},
     "output_type": "display_data"
    },
    {
     "name": "stdout",
     "output_type": "stream",
     "text": [
      "df: org.apache.spark.sql.DataFrame = [_attribute1: string, field1: bigint ... 3 more fields]\n",
      "root\n",
      " |-- _attribute1: string (nullable = true)\n",
      " |-- field1: long (nullable = true)\n",
      " |-- field2: string (nullable = true)\n",
      " |-- nls: struct (nullable = true)\n",
      " |    |-- ns2: array (nullable = true)\n",
      " |    |    |-- element: struct (containsNull = true)\n",
      " |    |    |    |-- nf11: string (nullable = true)\n",
      " |    |    |    |-- nf12: string (nullable = true)\n",
      " |    |    |    |-- nf13: string (nullable = true)\n",
      " |-- ns: struct (nullable = true)\n",
      " |    |-- nf1: string (nullable = true)\n",
      " |    |-- nf2: string (nullable = true)\n",
      " |    |-- nf3: string (nullable = true)\n",
      "\n",
      "4"
     ]
    }
   ],
   "source": [
    "var df = spark.read.format(\"xml\").option(\"rowTag\",\"record\").load(\"s3://neilawstmp2/xml/sample.xml\")\n",
    "df.printSchema()\n",
    "print (df.count())"
   ]
  },
  {
   "cell_type": "markdown",
   "metadata": {},
   "source": [
    "### Flatten the Dataframe"
   ]
  },
  {
   "cell_type": "code",
   "execution_count": 3,
   "metadata": {
    "ExecuteTime": {
     "end_time": "2020-08-19T03:11:11.665021Z",
     "start_time": "2020-08-19T03:11:09.418175Z"
    }
   },
   "outputs": [
    {
     "data": {
      "application/vnd.jupyter.widget-view+json": {
       "model_id": "",
       "version_major": 2,
       "version_minor": 0
      },
      "text/plain": [
       "FloatProgress(value=0.0, bar_style='info', description='Progress:', layout=Layout(height='25px', width='50%'),…"
      ]
     },
     "metadata": {},
     "output_type": "display_data"
    },
    {
     "name": "stdout",
     "output_type": "stream",
     "text": [
      "import spark.implicits._\n",
      "import org.apache.spark.sql._\n",
      "import org.apache.spark.sql.types._\n",
      "flatten: (df: org.apache.spark.sql.DataFrame)org.apache.spark.sql.DataFrame\n"
     ]
    }
   ],
   "source": [
    "import spark.implicits._\n",
    "import org.apache.spark.sql._\n",
    "import org.apache.spark.sql.types._\n",
    "\n",
    "def flatten(df: DataFrame): DataFrame = {\n",
    "   var input_df=df \n",
    "   var complex_fields = input_df.schema.fields.collect{\n",
    "      case f if (f.dataType.isInstanceOf[ArrayType] || f.dataType.isInstanceOf[StructType]) => (f.name, f.dataType)\n",
    "   }.toMap\n",
    "   print (complex_fields)\n",
    "   \n",
    "   while (complex_fields.size!=0) {\n",
    "    \n",
    "      var col_name=complex_fields.keys.head\n",
    "      print (\"Processing : \"+col_name+\", Type : \"+complex_fields(col_name).getClass)\n",
    "\n",
    "      if (complex_fields(col_name).isInstanceOf[StructType]){\n",
    "         var expanded=complex_fields(col_name).asInstanceOf[StructType].fields.map(_.name).map(c=>col(col_name+'.'+c).alias(col_name+'_'+c))\n",
    "         input_df=input_df.select(input_df.columns.map(input_df(_)) ++ expanded:_*).drop(col_name)\n",
    "      }\n",
    "      else if (complex_fields(col_name).isInstanceOf[ArrayType]){\n",
    "         input_df=input_df.withColumn(col_name,explode_outer(col(col_name)))\n",
    "      }\n",
    "\n",
    "      //recompute remaining Complex Fields in Schema \n",
    "      complex_fields = input_df.schema.fields.collect{\n",
    "         case f if (f.dataType.isInstanceOf[ArrayType] || f.dataType.isInstanceOf[StructType]) => (f.name, f.dataType)\n",
    "      }.toMap\n",
    "   }\n",
    "   // return final flattened dataframe \n",
    "   return input_df \n",
    "}\n"
   ]
  },
  {
   "cell_type": "code",
   "execution_count": 4,
   "metadata": {
    "ExecuteTime": {
     "end_time": "2020-08-19T03:11:14.917252Z",
     "start_time": "2020-08-19T03:11:11.667251Z"
    }
   },
   "outputs": [
    {
     "data": {
      "application/vnd.jupyter.widget-view+json": {
       "model_id": "",
       "version_major": 2,
       "version_minor": 0
      },
      "text/plain": [
       "FloatProgress(value=0.0, bar_style='info', description='Progress:', layout=Layout(height='25px', width='50%'),…"
      ]
     },
     "metadata": {},
     "output_type": "display_data"
    },
    {
     "name": "stdout",
     "output_type": "stream",
     "text": [
      "Map(nls -> StructType(StructField(ns2,ArrayType(StructType(StructField(nf11,StringType,true), StructField(nf12,StringType,true), StructField(nf13,StringType,true)),true),true)), ns -> StructType(StructField(nf1,StringType,true), StructField(nf2,StringType,true), StructField(nf3,StringType,true)))Processing : nls, Type : class org.apache.spark.sql.types.StructTypeProcessing : ns, Type : class org.apache.spark.sql.types.StructTypeProcessing : nls_ns2, Type : class org.apache.spark.sql.types.ArrayTypeProcessing : nls_ns2, Type : class org.apache.spark.sql.types.StructTypedf: org.apache.spark.sql.DataFrame = [_attribute1: string, field1: bigint ... 7 more fields]\n",
      "root\n",
      " |-- _attribute1: string (nullable = true)\n",
      " |-- field1: long (nullable = true)\n",
      " |-- field2: string (nullable = true)\n",
      " |-- ns_nf1: string (nullable = true)\n",
      " |-- ns_nf2: string (nullable = true)\n",
      " |-- ns_nf3: string (nullable = true)\n",
      " |-- nls_ns2_nf11: string (nullable = true)\n",
      " |-- nls_ns2_nf12: string (nullable = true)\n",
      " |-- nls_ns2_nf13: string (nullable = true)\n",
      "\n",
      "5"
     ]
    }
   ],
   "source": [
    "df=flatten(df)\n",
    "df.printSchema()\n",
    "print (df.count())"
   ]
  },
  {
   "cell_type": "markdown",
   "metadata": {},
   "source": [
    "Observe the our dataframe is now flattened out. The List of Structs (nls) is exploded and the Struct field (ns) is expanded into distinct columns.\n",
    "\n",
    "We started with 3 records and have 5 records now after exploding the List of Structs (nls)."
   ]
  },
  {
   "cell_type": "code",
   "execution_count": 5,
   "metadata": {
    "ExecuteTime": {
     "end_time": "2020-08-19T03:11:16.158558Z",
     "start_time": "2020-08-19T03:11:14.919561Z"
    }
   },
   "outputs": [
    {
     "data": {
      "application/vnd.jupyter.widget-view+json": {
       "model_id": "",
       "version_major": 2,
       "version_minor": 0
      },
      "text/plain": [
       "FloatProgress(value=0.0, bar_style='info', description='Progress:', layout=Layout(height='25px', width='50%'),…"
      ]
     },
     "metadata": {},
     "output_type": "display_data"
    },
    {
     "name": "stdout",
     "output_type": "stream",
     "text": [
      "+------+------+------------+------------+------------+\n",
      "|field1|ns_nf1|nls_ns2_nf11|nls_ns2_nf12|nls_ns2_nf13|\n",
      "+------+------+------------+------------+------------+\n",
      "|     1|   nf1|        nf11|        nf12|        null|\n",
      "|     1|   nf1|        null|        null|        nf13|\n",
      "|     2|  null|        null|        null|        null|\n",
      "|     3|  null|        null|        null|        null|\n",
      "|     4|  null|        null|        null|        null|\n",
      "+------+------+------------+------------+------------+\n",
      "\n"
     ]
    }
   ],
   "source": [
    "df.select(\"field1\",\"ns_nf1\",\"nls_ns2_nf11\",\"nls_ns2_nf12\",\"nls_ns2_nf13\").show(5)"
   ]
  },
  {
   "cell_type": "markdown",
   "metadata": {},
   "source": [
    "### Write out in Parquet"
   ]
  },
  {
   "cell_type": "code",
   "execution_count": 6,
   "metadata": {
    "ExecuteTime": {
     "end_time": "2020-08-19T03:11:18.404874Z",
     "start_time": "2020-08-19T03:11:16.160951Z"
    }
   },
   "outputs": [
    {
     "data": {
      "application/vnd.jupyter.widget-view+json": {
       "model_id": "",
       "version_major": 2,
       "version_minor": 0
      },
      "text/plain": [
       "FloatProgress(value=0.0, bar_style='info', description='Progress:', layout=Layout(height='25px', width='50%'),…"
      ]
     },
     "metadata": {},
     "output_type": "display_data"
    }
   ],
   "source": [
    "df.write.mode(\"OVERWRITE\").parquet(\"s3://neilawstmp2/xml/parquet/\")"
   ]
  },
  {
   "cell_type": "markdown",
   "metadata": {},
   "source": [
    "### Read Parquet data"
   ]
  },
  {
   "cell_type": "code",
   "execution_count": 7,
   "metadata": {
    "ExecuteTime": {
     "end_time": "2020-08-19T03:11:20.650366Z",
     "start_time": "2020-08-19T03:11:18.406455Z"
    }
   },
   "outputs": [
    {
     "data": {
      "application/vnd.jupyter.widget-view+json": {
       "model_id": "",
       "version_major": 2,
       "version_minor": 0
      },
      "text/plain": [
       "FloatProgress(value=0.0, bar_style='info', description='Progress:', layout=Layout(height='25px', width='50%'),…"
      ]
     },
     "metadata": {},
     "output_type": "display_data"
    },
    {
     "name": "stdout",
     "output_type": "stream",
     "text": [
      "input_df: org.apache.spark.sql.DataFrame = [_attribute1: string, field1: bigint ... 7 more fields]\n",
      "root\n",
      " |-- _attribute1: string (nullable = true)\n",
      " |-- field1: long (nullable = true)\n",
      " |-- field2: string (nullable = true)\n",
      " |-- ns_nf1: string (nullable = true)\n",
      " |-- ns_nf2: string (nullable = true)\n",
      " |-- ns_nf3: string (nullable = true)\n",
      " |-- nls_ns2_nf11: string (nullable = true)\n",
      " |-- nls_ns2_nf12: string (nullable = true)\n",
      " |-- nls_ns2_nf13: string (nullable = true)\n",
      "\n",
      "+------+------+------------+------------+------------+\n",
      "|field1|ns_nf1|nls_ns2_nf11|nls_ns2_nf12|nls_ns2_nf13|\n",
      "+------+------+------------+------------+------------+\n",
      "|     1|   nf1|        nf11|        nf12|        null|\n",
      "|     1|   nf1|        null|        null|        nf13|\n",
      "|     2|  null|        null|        null|        null|\n",
      "|     3|  null|        null|        null|        null|\n",
      "|     4|  null|        null|        null|        null|\n",
      "+------+------+------------+------------+------------+\n",
      "\n"
     ]
    }
   ],
   "source": [
    "val input_df=spark.read.parquet(\"s3://neilawstmp2/xml/parquet/\")\n",
    "input_df.printSchema()\n",
    "input_df.select(\"field1\",\"ns_nf1\",\"nls_ns2_nf11\",\"nls_ns2_nf12\",\"nls_ns2_nf13\").show(5)"
   ]
  },
  {
   "cell_type": "code",
   "execution_count": null,
   "metadata": {},
   "outputs": [],
   "source": []
  }
 ],
 "metadata": {
  "kernelspec": {
   "display_name": "Sparkmagic (Spark)",
   "language": "",
   "name": "sparkkernel"
  },
  "language_info": {
   "codemirror_mode": "text/x-scala",
   "mimetype": "text/x-scala",
   "name": "scala",
   "pygments_lexer": "scala"
  }
 },
 "nbformat": 4,
 "nbformat_minor": 4
}
