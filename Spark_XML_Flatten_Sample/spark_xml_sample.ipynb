{
 "cells": [
  {
   "cell_type": "markdown",
   "metadata": {},
   "source": [
    "### Initialize Spark Session"
   ]
  },
  {
   "cell_type": "code",
   "execution_count": 1,
   "metadata": {
    "ExecuteTime": {
     "end_time": "2020-08-18T17:53:05.459518Z",
     "start_time": "2020-08-18T17:53:05.438672Z"
    }
   },
   "outputs": [
    {
     "data": {
      "text/html": [
       "Current session configs: <tt>{'conf': {'spark.jars.packages': 'com.databricks:spark-xml_2.10:0.4.1'}, 'kind': 'pyspark'}</tt><br>"
      ],
      "text/plain": [
       "<IPython.core.display.HTML object>"
      ]
     },
     "metadata": {},
     "output_type": "display_data"
    },
    {
     "data": {
      "text/html": [
       "No active sessions."
      ],
      "text/plain": [
       "<IPython.core.display.HTML object>"
      ]
     },
     "metadata": {},
     "output_type": "display_data"
    }
   ],
   "source": [
    "%%configure -f\n",
    "{ \"conf\": {\"spark.jars.packages\": \"com.databricks:spark-xml_2.10:0.4.1\" }}"
   ]
  },
  {
   "cell_type": "markdown",
   "metadata": {},
   "source": [
    "Our XML input looks like below.\n",
    "\n",
    "Contains a nested struct field 'ns' as well as a nested list of structs 'nls' field.\n",
    "\n",
    "```\n",
    "<?xml version=\"1.0\" encoding=\"UTF-8\"?>\n",
    "<root>\n",
    "   <record attribute1=\"AAAA\">\n",
    "      <field1>1</field1>\n",
    "      <field2>three</field2>\n",
    "      <ns>\n",
    "         <nf1>nf1</nf1>\n",
    "         <nf2>nf2</nf2>\n",
    "         <nf3>nf3</nf3>\n",
    "      </ns>\n",
    "      <nls>\n",
    "         <ns2>\n",
    "            <nf11>nf11</nf11>\n",
    "            <nf12>nf12</nf12>\n",
    "         </ns2>\n",
    "         <ns2>\n",
    "            <nf13>nf13</nf13>\n",
    "         </ns2>\n",
    "      </nls>\n",
    "   </record>\n",
    "   <record attribute1=\"AAAA\">\n",
    "      <field1>2</field1>\n",
    "      <field2>three</field2>\n",
    "   </record>\n",
    "   <record attribute1=\"AAAA\">\n",
    "      <field1>3</field1>\n",
    "      <field2>three</field2>\n",
    "   </record>\n",
    "   <record attribute1=\"AAAA\">\n",
    "      <field1>4</field1>\n",
    "      <field2>three</field2>\n",
    "   </record>\n",
    "</root>\n",
    "```"
   ]
  },
  {
   "cell_type": "markdown",
   "metadata": {},
   "source": [
    "### Read Input File"
   ]
  },
  {
   "cell_type": "code",
   "execution_count": 2,
   "metadata": {
    "ExecuteTime": {
     "end_time": "2020-08-18T17:53:40.207423Z",
     "start_time": "2020-08-18T17:53:17.902691Z"
    }
   },
   "outputs": [
    {
     "name": "stdout",
     "output_type": "stream",
     "text": [
      "Starting Spark application\n"
     ]
    },
    {
     "data": {
      "text/html": [
       "<table>\n",
       "<tr><th>ID</th><th>YARN Application ID</th><th>Kind</th><th>State</th><th>Spark UI</th><th>Driver log</th><th>Current session?</th></tr><tr><td>2</td><td>application_1597770352735_0003</td><td>pyspark</td><td>idle</td><td><a target=\"_blank\" href=\"http://ip-172-31-36-133.us-west-2.compute.internal:20888/proxy/application_1597770352735_0003/\">Link</a></td><td><a target=\"_blank\" href=\"http://ip-172-31-41-228.us-west-2.compute.internal:8042/node/containerlogs/container_1597770352735_0003_01_000001/livy\">Link</a></td><td>✔</td></tr></table>"
      ],
      "text/plain": [
       "<IPython.core.display.HTML object>"
      ]
     },
     "metadata": {},
     "output_type": "display_data"
    },
    {
     "data": {
      "application/vnd.jupyter.widget-view+json": {
       "model_id": "",
       "version_major": 2,
       "version_minor": 0
      },
      "text/plain": [
       "FloatProgress(value=0.0, bar_style='info', description='Progress:', layout=Layout(height='25px', width='50%'),…"
      ]
     },
     "metadata": {},
     "output_type": "display_data"
    },
    {
     "name": "stdout",
     "output_type": "stream",
     "text": [
      "SparkSession available as 'spark'.\n"
     ]
    },
    {
     "data": {
      "application/vnd.jupyter.widget-view+json": {
       "model_id": "",
       "version_major": 2,
       "version_minor": 0
      },
      "text/plain": [
       "FloatProgress(value=0.0, bar_style='info', description='Progress:', layout=Layout(height='25px', width='50%'),…"
      ]
     },
     "metadata": {},
     "output_type": "display_data"
    }
   ],
   "source": [
    "from pyspark.sql.types import *\n",
    "from pyspark.sql.functions import *"
   ]
  },
  {
   "cell_type": "code",
   "execution_count": 3,
   "metadata": {
    "ExecuteTime": {
     "end_time": "2020-08-18T17:53:45.482950Z",
     "start_time": "2020-08-18T17:53:40.209302Z"
    }
   },
   "outputs": [
    {
     "data": {
      "application/vnd.jupyter.widget-view+json": {
       "model_id": "",
       "version_major": 2,
       "version_minor": 0
      },
      "text/plain": [
       "FloatProgress(value=0.0, bar_style='info', description='Progress:', layout=Layout(height='25px', width='50%'),…"
      ]
     },
     "metadata": {},
     "output_type": "display_data"
    },
    {
     "name": "stdout",
     "output_type": "stream",
     "text": [
      "root\n",
      " |-- _attribute1: string (nullable = true)\n",
      " |-- field1: long (nullable = true)\n",
      " |-- field2: string (nullable = true)\n",
      " |-- nls: struct (nullable = true)\n",
      " |    |-- ns2: array (nullable = true)\n",
      " |    |    |-- element: struct (containsNull = true)\n",
      " |    |    |    |-- nf11: string (nullable = true)\n",
      " |    |    |    |-- nf12: string (nullable = true)\n",
      " |    |    |    |-- nf13: string (nullable = true)\n",
      " |-- ns: struct (nullable = true)\n",
      " |    |-- nf1: string (nullable = true)\n",
      " |    |-- nf2: string (nullable = true)\n",
      " |    |-- nf3: string (nullable = true)"
     ]
    }
   ],
   "source": [
    "df = spark.read \\\n",
    "    .format('xml') \\\n",
    "    .options(rowTag='record') \\\n",
    "    .load('s3://neilawstmp2/xml/sample.xml')\n",
    "df.printSchema()"
   ]
  },
  {
   "cell_type": "markdown",
   "metadata": {},
   "source": [
    "### Flatten the Dataframe"
   ]
  },
  {
   "cell_type": "code",
   "execution_count": 4,
   "metadata": {
    "ExecuteTime": {
     "end_time": "2020-08-18T17:53:45.513925Z",
     "start_time": "2020-08-18T17:53:45.485137Z"
    }
   },
   "outputs": [
    {
     "data": {
      "application/vnd.jupyter.widget-view+json": {
       "model_id": "",
       "version_major": 2,
       "version_minor": 0
      },
      "text/plain": [
       "FloatProgress(value=0.0, bar_style='info', description='Progress:', layout=Layout(height='25px', width='50%'),…"
      ]
     },
     "metadata": {},
     "output_type": "display_data"
    }
   ],
   "source": [
    "def flatten(df):\n",
    "   # compute Complex Fields (Lists and Structs) in Schema   \n",
    "   complex_fields = dict([(field.name, field.dataType)\n",
    "                             for field in df.schema.fields\n",
    "                             if type(field.dataType) == ArrayType or  type(field.dataType) == StructType])\n",
    "   while len(complex_fields)!=0:\n",
    "      col_name=list(complex_fields.keys())[0]\n",
    "      print (\"Processing :\"+col_name+\" Type : \"+str(type(complex_fields[col_name])))\n",
    "    \n",
    "      # if StructType then convert all sub element to columns.\n",
    "      # i.e. flatten structs\n",
    "      if (type(complex_fields[col_name]) == StructType):\n",
    "         expanded = [col(col_name+'.'+k).alias(col_name+'_'+k) for k in [ n.name for n in  complex_fields[col_name]]]\n",
    "         df=df.select(\"*\", *expanded).drop(col_name)\n",
    "    \n",
    "      # if ArrayType then add the Array Elements as Rows using the explode function\n",
    "      # i.e. explode Arrays\n",
    "      elif (type(complex_fields[col_name]) == ArrayType):    \n",
    "         df=df.withColumn(col_name,explode_outer(col_name))\n",
    "    \n",
    "      # recompute remaining Complex Fields in Schema       \n",
    "      complex_fields = dict([(field.name, field.dataType)\n",
    "                             for field in df.schema.fields\n",
    "                             if type(field.dataType) == ArrayType or  type(field.dataType) == StructType])\n",
    "   return df\n"
   ]
  },
  {
   "cell_type": "code",
   "execution_count": 6,
   "metadata": {
    "ExecuteTime": {
     "end_time": "2020-08-18T17:55:07.643445Z",
     "start_time": "2020-08-18T17:54:58.368362Z"
    }
   },
   "outputs": [
    {
     "data": {
      "application/vnd.jupyter.widget-view+json": {
       "model_id": "",
       "version_major": 2,
       "version_minor": 0
      },
      "text/plain": [
       "FloatProgress(value=0.0, bar_style='info', description='Progress:', layout=Layout(height='25px', width='50%'),…"
      ]
     },
     "metadata": {},
     "output_type": "display_data"
    },
    {
     "name": "stdout",
     "output_type": "stream",
     "text": [
      "root\n",
      " |-- _attribute1: string (nullable = true)\n",
      " |-- field1: long (nullable = true)\n",
      " |-- field2: string (nullable = true)\n",
      " |-- ns_nf1: string (nullable = true)\n",
      " |-- ns_nf2: string (nullable = true)\n",
      " |-- ns_nf3: string (nullable = true)\n",
      " |-- nls_ns2_nf11: string (nullable = true)\n",
      " |-- nls_ns2_nf12: string (nullable = true)\n",
      " |-- nls_ns2_nf13: string (nullable = true)\n",
      "\n",
      "5"
     ]
    }
   ],
   "source": [
    "df=flatten(df)\n",
    "df.printSchema()\n",
    "print (df.count())"
   ]
  },
  {
   "cell_type": "markdown",
   "metadata": {},
   "source": [
    "Observe the our dataframe is now flattened out. The List of Structs (nls) is exploded and the Struct field (ns) is expanded into distinct columns.\n",
    "\n",
    "We started with 3 records and have 5 records now after exploding the List of Structs (nls)."
   ]
  },
  {
   "cell_type": "code",
   "execution_count": 8,
   "metadata": {
    "ExecuteTime": {
     "end_time": "2020-08-18T17:56:08.143001Z",
     "start_time": "2020-08-18T17:56:07.403528Z"
    }
   },
   "outputs": [
    {
     "data": {
      "application/vnd.jupyter.widget-view+json": {
       "model_id": "",
       "version_major": 2,
       "version_minor": 0
      },
      "text/plain": [
       "FloatProgress(value=0.0, bar_style='info', description='Progress:', layout=Layout(height='25px', width='50%'),…"
      ]
     },
     "metadata": {},
     "output_type": "display_data"
    },
    {
     "name": "stdout",
     "output_type": "stream",
     "text": [
      "+------+------+------------+------------+------------+\n",
      "|field1|ns_nf1|nls_ns2_nf11|nls_ns2_nf12|nls_ns2_nf13|\n",
      "+------+------+------------+------------+------------+\n",
      "|     1|   nf1|        nf11|        nf12|        null|\n",
      "|     1|   nf1|        null|        null|        nf13|\n",
      "|     2|  null|        null|        null|        null|\n",
      "|     3|  null|        null|        null|        null|\n",
      "|     4|  null|        null|        null|        null|\n",
      "+------+------+------------+------------+------------+"
     ]
    }
   ],
   "source": [
    "df.select(\"field1\",\"ns_nf1\",\"nls_ns2_nf11\",\"nls_ns2_nf12\",\"nls_ns2_nf13\").show(5)"
   ]
  },
  {
   "cell_type": "markdown",
   "metadata": {},
   "source": [
    "### Write out in Parquet"
   ]
  },
  {
   "cell_type": "code",
   "execution_count": 9,
   "metadata": {
    "ExecuteTime": {
     "end_time": "2020-08-18T17:56:16.271184Z",
     "start_time": "2020-08-18T17:56:14.020343Z"
    }
   },
   "outputs": [
    {
     "data": {
      "application/vnd.jupyter.widget-view+json": {
       "model_id": "",
       "version_major": 2,
       "version_minor": 0
      },
      "text/plain": [
       "FloatProgress(value=0.0, bar_style='info', description='Progress:', layout=Layout(height='25px', width='50%'),…"
      ]
     },
     "metadata": {},
     "output_type": "display_data"
    }
   ],
   "source": [
    "df.write.mode(\"OVERWRITE\").parquet(\"s3://neilawstmp2/xml/parquet/\")"
   ]
  },
  {
   "cell_type": "markdown",
   "metadata": {},
   "source": [
    "### Read Parquet data"
   ]
  },
  {
   "cell_type": "code",
   "execution_count": 10,
   "metadata": {
    "ExecuteTime": {
     "end_time": "2020-08-18T17:56:17.161317Z",
     "start_time": "2020-08-18T17:56:16.424599Z"
    }
   },
   "outputs": [
    {
     "data": {
      "application/vnd.jupyter.widget-view+json": {
       "model_id": "",
       "version_major": 2,
       "version_minor": 0
      },
      "text/plain": [
       "FloatProgress(value=0.0, bar_style='info', description='Progress:', layout=Layout(height='25px', width='50%'),…"
      ]
     },
     "metadata": {},
     "output_type": "display_data"
    },
    {
     "name": "stdout",
     "output_type": "stream",
     "text": [
      "root\n",
      " |-- _attribute1: string (nullable = true)\n",
      " |-- field1: long (nullable = true)\n",
      " |-- field2: string (nullable = true)\n",
      " |-- ns_nf1: string (nullable = true)\n",
      " |-- ns_nf2: string (nullable = true)\n",
      " |-- ns_nf3: string (nullable = true)\n",
      " |-- nls_ns2_nf11: string (nullable = true)\n",
      " |-- nls_ns2_nf12: string (nullable = true)\n",
      " |-- nls_ns2_nf13: string (nullable = true)\n",
      "\n",
      "+------+------+------------+------------+------------+\n",
      "|field1|ns_nf1|nls_ns2_nf11|nls_ns2_nf12|nls_ns2_nf13|\n",
      "+------+------+------------+------------+------------+\n",
      "|     1|   nf1|        nf11|        nf12|        null|\n",
      "|     1|   nf1|        null|        null|        nf13|\n",
      "|     2|  null|        null|        null|        null|\n",
      "|     3|  null|        null|        null|        null|\n",
      "|     4|  null|        null|        null|        null|\n",
      "+------+------+------------+------------+------------+"
     ]
    }
   ],
   "source": [
    "input_df=spark.read.parquet(\"s3://neilawstmp2/xml/parquet/\")\n",
    "input_df.printSchema()\n",
    "input_df.select(\"field1\",\"ns_nf1\",\"nls_ns2_nf11\",\"nls_ns2_nf12\",\"nls_ns2_nf13\").show(5)"
   ]
  },
  {
   "cell_type": "code",
   "execution_count": null,
   "metadata": {},
   "outputs": [],
   "source": []
  }
 ],
 "metadata": {
  "kernelspec": {
   "display_name": "Sparkmagic (PySpark)",
   "language": "",
   "name": "pysparkkernel"
  },
  "language_info": {
   "codemirror_mode": {
    "name": "python",
    "version": 3
   },
   "mimetype": "text/x-python",
   "name": "pyspark",
   "pygments_lexer": "python3"
  }
 },
 "nbformat": 4,
 "nbformat_minor": 4
}
