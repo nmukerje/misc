{
 "cells": [
  {
   "cell_type": "markdown",
   "metadata": {},
   "source": [
    "### Step 1: Launch EMR 6.2.0 with application JupyterEnterpriseGateway 2.1.0 selected.\n",
    "\n",
    "### Step 2: Ensure hdfs:///user/emr-notebook has user privileges for user emr-notebook:\n",
    "\n",
    "```\n",
    "$> hdfs dfs -mkdir /user/emr-notebook\n",
    "$> hdfs dfs -chown emr-notebook:emr-notebook /user/emr-notebook\n",
    "```\n",
    "\n",
    "### Step 3: Install findspark on the cluster.\n",
    "\n",
    "```\n",
    "$> sudo /emr/notebook-env/bin/pip3 install --prefix=/emr/notebook-env/ findspark\n",
    "\n",
    "```"
   ]
  },
  {
   "cell_type": "code",
   "execution_count": 1,
   "metadata": {},
   "outputs": [
    {
     "name": "stdout",
     "output_type": "stream",
     "text": [
      "CPU times: user 137 ms, sys: 11.2 ms, total: 149 ms\n",
      "Wall time: 11.9 s\n"
     ]
    }
   ],
   "source": [
    "%%time\n",
    "## 1st cell of notebook needs to intialize Spark session.\n",
    "import findspark\n",
    "findspark.init()\n",
    "\n",
    "import pyspark\n",
    "from pyspark.sql import SparkSession\n",
    "\n",
    "config_list = [\n",
    "    ('spark.sql.execution.arrow.pyspark.enabled','true'),\n",
    "    ('spark.sql.execution.arrow.pyspark.fallback.enabled','false'),\n",
    "    ('spark.pyspark.virtualenv.enabled','true'),\n",
    "    ('spark.pyspark.virtualenv.type','native'),\n",
    "    ('spark.pyspark.virtualenv.bin.path','/usr/bin/virtualenv')    \n",
    "]\n",
    "\n",
    "conf = pyspark.SparkConf().setAll(config_list)\n",
    "\n",
    "spark = SparkSession.builder.master('yarn')\\\n",
    "    .config(conf=conf)\\\n",
    "    .appName('myapp')\\\n",
    "    .getOrCreate()\n",
    "\n",
    "sc=spark.sparkContext"
   ]
  },
  {
   "cell_type": "code",
   "execution_count": 2,
   "metadata": {},
   "outputs": [
    {
     "name": "stdout",
     "output_type": "stream",
     "text": [
      "Package                           Version\n",
      "--------------------------------- -------------------\n",
      "adal                              1.2.4\n",
      "aiohttp                           3.6.3\n",
      "appdirs                           1.4.4\n",
      "asn1crypto                        1.4.0\n",
      "async-timeout                     3.0.1\n",
      "attrs                             20.2.0\n",
      "autovizwidget                     0.15.0\n",
      "awseditorssparkmonitoringwidget   1.0\n",
      "backcall                          0.2.0\n",
      "bcrypt                            3.2.0\n",
      "bleach                            3.2.1\n",
      "blinker                           1.4\n",
      "brotlipy                          0.7.0\n",
      "cachetools                        4.1.1\n",
      "certifi                           2020.6.20\n",
      "cffi                              1.14.0\n",
      "chardet                           3.0.4\n",
      "conda                             4.7.12\n",
      "conda-package-handling            1.7.2\n",
      "cryptography                      3.1.1\n",
      "decorator                         4.4.2\n",
      "defusedxml                        0.6.0\n",
      "docker                            4.3.1\n",
      "docker-pycreds                    0.4.0\n",
      "entrypoints                       0.3\n",
      "findspark                         1.4.2\n",
      "google-auth                       1.22.1\n",
      "hdijupyterutils                   0.16.0\n",
      "idna                              2.10\n",
      "importlib-metadata                2.0.0\n",
      "iniconfig                         1.1.1\n",
      "ipykernel                         5.3.4\n",
      "ipython                           7.18.1\n",
      "ipython-genutils                  0.2.0\n",
      "ipywidgets                        7.5.1\n",
      "jedi                              0.17.2\n",
      "Jinja2                            2.11.2\n",
      "jsonschema                        3.2.0\n",
      "jupyter-client                    6.1.3\n",
      "jupyter-contrib-core              0.3.3\n",
      "jupyter-contrib-nbextensions      0.5.1\n",
      "jupyter-core                      4.6.3\n",
      "jupyter-enterprise-gateway        2.1.0\n",
      "jupyter-highlight-selected-word   0.2.0\n",
      "jupyter-latex-envs                1.4.6\n",
      "jupyter-nbextensions-configurator 0.4.1\n",
      "kubernetes                        12.0.0\n",
      "lxml                              4.6.1\n",
      "MarkupSafe                        1.1.1\n",
      "mistune                           0.8.4\n",
      "mkl-fft                           1.2.0\n",
      "mkl-random                        1.1.1\n",
      "mkl-service                       2.3.0\n",
      "more-itertools                    8.5.0\n",
      "multidict                         4.7.6\n",
      "nbconvert                         5.6.1\n",
      "nbformat                          5.0.8\n",
      "notebook                          6.0.3\n",
      "numpy                             1.19.1\n",
      "oauthlib                          3.1.0\n",
      "packaging                         20.4\n",
      "pandas                            1.1.3\n",
      "pandocfilters                     1.4.2\n",
      "paramiko                          2.7.2\n",
      "parso                             0.7.0\n",
      "pexpect                           4.8.0\n",
      "pickleshare                       0.7.5\n",
      "pip                               20.2.4\n",
      "plotly                            4.11.0\n",
      "pluggy                            0.13.1\n",
      "prometheus-client                 0.8.0\n",
      "prompt-toolkit                    3.0.8\n",
      "ptyprocess                        0.6.0\n",
      "py                                1.9.0\n",
      "pyarrow                           2.0.0\n",
      "pyasn1                            0.4.8\n",
      "pyasn1-modules                    0.2.8\n",
      "pycosat                           0.6.3\n",
      "pycparser                         2.20\n",
      "pycrypto                          2.6.1\n",
      "Pygments                          2.7.1\n",
      "PyJWT                             1.7.1\n",
      "pykerberos                        1.2.1\n",
      "PyNaCl                            1.4.0\n",
      "pyOpenSSL                         19.1.0\n",
      "pyparsing                         2.4.7\n",
      "pyrsistent                        0.17.3\n",
      "PySocks                           1.7.1\n",
      "pytest                            0.0.0\n",
      "pytest-runner                     5.2\n",
      "python-dateutil                   2.8.1\n",
      "pytz                              2020.1\n",
      "PyYAML                            5.3.1\n",
      "pyzmq                             19.0.2\n",
      "requests                          2.24.0\n",
      "requests-kerberos                 0.12.0\n",
      "requests-oauthlib                 1.3.0\n",
      "retrying                          1.3.3\n",
      "rsa                               4.6\n",
      "ruamel-yaml                       0.15.87\n",
      "Send2Trash                        1.5.0\n",
      "setuptools                        50.3.0.post20201006\n",
      "six                               1.15.0\n",
      "terminado                         0.9.1\n",
      "testpath                          0.4.4\n",
      "toml                              0.10.1\n",
      "tornado                           6.0.4\n",
      "tqdm                              4.50.2\n",
      "traitlets                         5.0.5\n",
      "urllib3                           1.25.11\n",
      "wcwidth                           0.2.5\n",
      "webencodings                      0.5.1\n",
      "websocket-client                  0.57.0\n",
      "wheel                             0.35.1\n",
      "widgetsnbextension                3.5.1\n",
      "yarl                              1.6.2\n",
      "yarn-api-client                   1.0.2\n",
      "zipp                              3.3.1\n",
      "\n"
     ]
    },
    {
     "name": "stderr",
     "output_type": "stream",
     "text": [
      "\n"
     ]
    }
   ],
   "source": [
    "sc.list_packages()"
   ]
  },
  {
   "cell_type": "code",
   "execution_count": 3,
   "metadata": {},
   "outputs": [
    {
     "name": "stdout",
     "output_type": "stream",
     "text": [
      "CPU times: user 927 µs, sys: 106 µs, total: 1.03 ms\n",
      "Wall time: 1.03 ms\n"
     ]
    },
    {
     "data": {
      "text/plain": [
       "'3.0.1-amzn-0'"
      ]
     },
     "execution_count": 3,
     "metadata": {},
     "output_type": "execute_result"
    }
   ],
   "source": [
    "%%time\n",
    "spark.version"
   ]
  },
  {
   "cell_type": "code",
   "execution_count": 4,
   "metadata": {},
   "outputs": [
    {
     "name": "stdout",
     "output_type": "stream",
     "text": [
      "CPU times: user 108 ms, sys: 36.3 ms, total: 145 ms\n",
      "Wall time: 3.67 s\n"
     ]
    }
   ],
   "source": [
    "%%time\n",
    "\n",
    "import numpy as np\n",
    "import pandas as pd\n",
    "import pyarrow as pa\n",
    "import random\n",
    "\n",
    "\n",
    "pdf = pd.DataFrame(np.random.randint(0,100,size=(1000000, 4)), columns=list('ABCD'))\n",
    "df = spark.createDataFrame(pdf)\n"
   ]
  },
  {
   "cell_type": "code",
   "execution_count": null,
   "metadata": {},
   "outputs": [],
   "source": []
  }
 ],
 "metadata": {
  "kernelspec": {
   "display_name": "Python 3",
   "language": "python",
   "name": "python3"
  },
  "language_info": {
   "codemirror_mode": {
    "name": "ipython",
    "version": 3
   },
   "file_extension": ".py",
   "mimetype": "text/x-python",
   "name": "python",
   "nbconvert_exporter": "python",
   "pygments_lexer": "ipython3",
   "version": "3.7.4"
  }
 },
 "nbformat": 4,
 "nbformat_minor": 4
}
