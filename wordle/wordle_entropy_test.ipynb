{
 "cells": [
  {
   "cell_type": "markdown",
   "metadata": {
    "id": "jZE5cUHiDe1R"
   },
   "source": [
    "# Wordle Entropy Test\n",
    "\n",
    "*\"In information theory, the entropy of a random variable is the average level of \"information\", \"surprise\", or \"uncertainty\" inherent to the variable's possible outcomes.\"*\n",
    "\n",
    "In Wordle, the 1st few words are all about identifying the matching letters as soon as possible hence we need to be as selective as possible to choose the letters that are most likely to exist in the corpus of 5-letter words in the English language.\n",
    "\n",
    "So let's figure out the best words to start with i.e. words consisting of letters with the highest likelihood or least surprise."
   ]
  },
  {
   "cell_type": "code",
   "execution_count": 1,
   "metadata": {
    "colab": {
     "base_uri": "https://localhost:8080/"
    },
    "execution": {
     "iopub.execute_input": "2022-02-12T09:30:39.069301Z",
     "iopub.status.busy": "2022-02-12T09:30:39.069023Z",
     "iopub.status.idle": "2022-02-12T09:30:39.377811Z",
     "shell.execute_reply": "2022-02-12T09:30:39.377232Z",
     "shell.execute_reply.started": "2022-02-12T09:30:39.069231Z"
    },
    "id": "75_rOaEpkmT2",
    "outputId": "09b4ec82-1494-4247-dea2-f45b065a739a",
    "tags": []
   },
   "outputs": [
    {
     "name": "stdout",
     "output_type": "stream",
     "text": [
      "--2022-02-12 09:30:39--  https://www-cs-faculty.stanford.edu/~knuth/sgb-words.txt\n",
      "Resolving www-cs-faculty.stanford.edu (www-cs-faculty.stanford.edu)... 171.64.64.64\n",
      "Connecting to www-cs-faculty.stanford.edu (www-cs-faculty.stanford.edu)|171.64.64.64|:443... connected.\n",
      "HTTP request sent, awaiting response... 200 OK\n",
      "Length: 34542 (34K) [text/plain]\n",
      "Saving to: ‘/home/emr-notebook/sgb-words.txt’\n",
      "\n",
      "100%[======================================>] 34,542      --.-K/s   in 0.04s   \n",
      "\n",
      "2022-02-12 09:30:39 (819 KB/s) - ‘/home/emr-notebook/sgb-words.txt’ saved [34542/34542]\n",
      "\n"
     ]
    }
   ],
   "source": [
    "# Download list of 5 letter words. Hopefully this is a good enough dataset.\n",
    "!wget -O /home/emr-notebook/sgb-words.txt \"https://www-cs-faculty.stanford.edu/~knuth/sgb-words.txt\" "
   ]
  },
  {
   "cell_type": "code",
   "execution_count": 2,
   "metadata": {
    "colab": {
     "base_uri": "https://localhost:8080/"
    },
    "execution": {
     "iopub.execute_input": "2022-02-12T09:30:41.256660Z",
     "iopub.status.busy": "2022-02-12T09:30:41.256410Z",
     "iopub.status.idle": "2022-02-12T09:30:41.267117Z",
     "shell.execute_reply": "2022-02-12T09:30:41.266636Z",
     "shell.execute_reply.started": "2022-02-12T09:30:41.256633Z"
    },
    "id": "mJzCtbAj1Fe_",
    "outputId": "4b4ab830-cf9e-4c29-bf68-e3dbc3eb7b40",
    "tags": []
   },
   "outputs": [
    {
     "data": {
      "text/plain": [
       "5757"
      ]
     },
     "execution_count": 2,
     "metadata": {},
     "output_type": "execute_result"
    }
   ],
   "source": [
    "filepath = '/home/emr-notebook/sgb-words.txt'\n",
    "with open(filepath) as fp:\n",
    "    word_list = fp.readlines()\n",
    "len(word_list)"
   ]
  },
  {
   "cell_type": "code",
   "execution_count": 3,
   "metadata": {
    "colab": {
     "base_uri": "https://localhost:8080/"
    },
    "execution": {
     "iopub.execute_input": "2022-02-12T09:30:43.376822Z",
     "iopub.status.busy": "2022-02-12T09:30:43.376601Z",
     "iopub.status.idle": "2022-02-12T09:30:43.399597Z",
     "shell.execute_reply": "2022-02-12T09:30:43.399107Z",
     "shell.execute_reply.started": "2022-02-12T09:30:43.376798Z"
    },
    "id": "DqBtUO6P2FFj",
    "outputId": "4e8f3bda-856b-47fb-fee0-b52a86dcc0da",
    "tags": []
   },
   "outputs": [
    {
     "data": {
      "text/plain": [
       "3834"
      ]
     },
     "execution_count": 3,
     "metadata": {},
     "output_type": "execute_result"
    }
   ],
   "source": [
    "from collections import Counter\n",
    "\n",
    "# We have 5757 words but let's get rid of words with repeating characters e.g. asses.\n",
    "clean_word_list=[w.replace('\\n', '') for  w in word_list if not any(v > 1 for v in iter(Counter(w).values()))]\n",
    "len(clean_word_list)"
   ]
  },
  {
   "cell_type": "code",
   "execution_count": 4,
   "metadata": {
    "colab": {
     "base_uri": "https://localhost:8080/"
    },
    "execution": {
     "iopub.execute_input": "2022-02-12T09:30:44.986941Z",
     "iopub.status.busy": "2022-02-12T09:30:44.986724Z",
     "iopub.status.idle": "2022-02-12T09:30:44.997596Z",
     "shell.execute_reply": "2022-02-12T09:30:44.997024Z",
     "shell.execute_reply.started": "2022-02-12T09:30:44.986918Z"
    },
    "id": "KCclHHY826vs",
    "outputId": "7b97feeb-7914-4587-a9a5-fee76a961bef",
    "tags": []
   },
   "outputs": [
    {
     "data": {
      "text/plain": [
       "[('e', 1899),\n",
       " ('s', 1822),\n",
       " ('a', 1606),\n",
       " ('r', 1361),\n",
       " ('o', 1147),\n",
       " ('i', 1129),\n",
       " ('t', 1059),\n",
       " ('l', 1002),\n",
       " ('n', 941),\n",
       " ('d', 810),\n",
       " ('u', 766),\n",
       " ('c', 700),\n",
       " ('p', 639),\n",
       " ('h', 586),\n",
       " ('m', 576),\n",
       " ('y', 540),\n",
       " ('g', 473),\n",
       " ('b', 459),\n",
       " ('k', 433),\n",
       " ('w', 366),\n",
       " ('f', 348),\n",
       " ('v', 229),\n",
       " ('x', 100),\n",
       " ('z', 78),\n",
       " ('j', 59),\n",
       " ('q', 42)]"
      ]
     },
     "execution_count": 4,
     "metadata": {},
     "output_type": "execute_result"
    }
   ],
   "source": [
    "# 3834 words left. Let's get letter frequencies.\n",
    "letter_counts = {}\n",
    "for line in clean_word_list:\n",
    "    for char in line:\n",
    "        if (char.isalpha()):\n",
    "            letter_counts[char] = letter_counts.get(char, 0) + 1\n",
    "\n",
    "import operator\n",
    "x = letter_counts\n",
    "sorted_x = sorted(x.items(), key=operator.itemgetter(1), reverse=True)\n",
    "sorted_x"
   ]
  },
  {
   "cell_type": "code",
   "execution_count": 5,
   "metadata": {
    "execution": {
     "iopub.execute_input": "2022-02-12T09:30:47.210572Z",
     "iopub.status.busy": "2022-02-12T09:30:47.210353Z",
     "iopub.status.idle": "2022-02-12T09:30:47.214096Z",
     "shell.execute_reply": "2022-02-12T09:30:47.213577Z",
     "shell.execute_reply.started": "2022-02-12T09:30:47.210549Z"
    },
    "id": "gjudXsxou3X4",
    "tags": []
   },
   "outputs": [],
   "source": [
    "# And now the probilities of each letter.\n",
    "probability_counts = {}\n",
    "\n",
    "def probability(boe,x):\n",
    "    total = sum(boe.values()) \n",
    "    return (boe[x]/total)\n",
    "\n",
    "probability_counts = { x: probability(letter_counts,x) for x in letter_counts.keys()}"
   ]
  },
  {
   "cell_type": "code",
   "execution_count": 6,
   "metadata": {
    "colab": {
     "base_uri": "https://localhost:8080/"
    },
    "execution": {
     "iopub.execute_input": "2022-02-12T09:30:48.922404Z",
     "iopub.status.busy": "2022-02-12T09:30:48.922180Z",
     "iopub.status.idle": "2022-02-12T09:30:48.927345Z",
     "shell.execute_reply": "2022-02-12T09:30:48.926784Z",
     "shell.execute_reply.started": "2022-02-12T09:30:48.922382Z"
    },
    "id": "FWovXOAlxBUW",
    "outputId": "c69df4e4-8db5-4802-f272-ef35e360ba4e",
    "tags": []
   },
   "outputs": [
    {
     "data": {
      "text/plain": [
       "[('e', 0.09906103286384976),\n",
       " ('s', 0.09504434011476265),\n",
       " ('a', 0.08377673448095983),\n",
       " ('r', 0.0709963484611372),\n",
       " ('o', 0.059833072509128844),\n",
       " ('i', 0.058894105372978615),\n",
       " ('t', 0.05524256651017214),\n",
       " ('l', 0.05226917057902973),\n",
       " ('n', 0.049087115284298384),\n",
       " ('d', 0.04225352112676056),\n",
       " ('u', 0.03995826812728221),\n",
       " ('c', 0.036515388628064686),\n",
       " ('p', 0.03333333333333333),\n",
       " ('h', 0.030568596765779863),\n",
       " ('m', 0.03004694835680751),\n",
       " ('y', 0.028169014084507043),\n",
       " ('g', 0.02467396974439228),\n",
       " ('b', 0.023943661971830985),\n",
       " ('k', 0.02258737610850287),\n",
       " ('w', 0.019092331768388107),\n",
       " ('f', 0.01815336463223787),\n",
       " ('v', 0.011945748565466876),\n",
       " ('x', 0.005216484089723527),\n",
       " ('z', 0.004068857589984351),\n",
       " ('j', 0.0030777256129368804),\n",
       " ('q', 0.002190923317683881)]"
      ]
     },
     "execution_count": 6,
     "metadata": {},
     "output_type": "execute_result"
    }
   ],
   "source": [
    "# Let's see letters ordered with the least surprise.\n",
    "sorted_p = sorted(probability_counts.items(), key=operator.itemgetter(1), reverse=True)\n",
    "sorted_p"
   ]
  },
  {
   "cell_type": "code",
   "execution_count": 7,
   "metadata": {
    "colab": {
     "base_uri": "https://localhost:8080/"
    },
    "execution": {
     "iopub.execute_input": "2022-02-12T09:30:51.051758Z",
     "iopub.status.busy": "2022-02-12T09:30:51.051538Z",
     "iopub.status.idle": "2022-02-12T09:30:51.055979Z",
     "shell.execute_reply": "2022-02-12T09:30:51.055458Z",
     "shell.execute_reply.started": "2022-02-12T09:30:51.051736Z"
    },
    "id": "zwXkvip3xUH5",
    "outputId": "33a0f59c-e87a-4a1b-bc55-3d41e7383990",
    "tags": []
   },
   "outputs": [
    {
     "data": {
      "text/plain": [
       "0.35706833594157533"
      ]
     },
     "execution_count": 7,
     "metadata": {},
     "output_type": "execute_result"
    }
   ],
   "source": [
    "# Get cumulative probaility of characters in each word.\n",
    "def get_total_prob(w):\n",
    "    return sum(probability_counts[c] for c in w)\n",
    "\n",
    "get_total_prob(\"beast\")  "
   ]
  },
  {
   "cell_type": "code",
   "execution_count": 8,
   "metadata": {
    "colab": {
     "base_uri": "https://localhost:8080/"
    },
    "execution": {
     "iopub.execute_input": "2022-02-12T09:30:52.717025Z",
     "iopub.status.busy": "2022-02-12T09:30:52.716800Z",
     "iopub.status.idle": "2022-02-12T09:30:52.725510Z",
     "shell.execute_reply": "2022-02-12T09:30:52.725033Z",
     "shell.execute_reply.started": "2022-02-12T09:30:52.717002Z"
    },
    "id": "H_8nPkDuzom5",
    "outputId": "99b8dd49-8744-4851-ceb8-ff6b1e7f57ec",
    "tags": []
   },
   "outputs": [
    {
     "data": {
      "text/plain": [
       "[('arose', 0.40871152842983827),\n",
       " ('raise', 0.40777256129368805),\n",
       " ('arise', 0.40777256129368805),\n",
       " ('aster', 0.40412102243088166),\n",
       " ('tears', 0.4041210224308816)]"
      ]
     },
     "execution_count": 8,
     "metadata": {},
     "output_type": "execute_result"
    }
   ],
   "source": [
    "# Top 10 words to start with are:\n",
    "res = sorted(clean_word_list, key = lambda x: get_total_prob(x.replace('\\n', '')), reverse = True)[:5]\n",
    "[(r,get_total_prob(r)) for r in res]"
   ]
  },
  {
   "cell_type": "code",
   "execution_count": 9,
   "metadata": {
    "colab": {
     "base_uri": "https://localhost:8080/"
    },
    "execution": {
     "iopub.execute_input": "2022-02-12T09:30:54.411034Z",
     "iopub.status.busy": "2022-02-12T09:30:54.410814Z",
     "iopub.status.idle": "2022-02-12T09:30:54.419455Z",
     "shell.execute_reply": "2022-02-12T09:30:54.418993Z",
     "shell.execute_reply.started": "2022-02-12T09:30:54.411011Z"
    },
    "id": "_gZ0GzugFR9T",
    "outputId": "75ceb698-d4ef-4fe3-8b03-6a8407edfdc3",
    "tags": []
   },
   "outputs": [
    {
     "data": {
      "text/plain": [
       "[('jumpy', 0.13458528951486695),\n",
       " ('junky', 0.14287949921752738),\n",
       " ('humpf', 0.15206051121544079),\n",
       " ('whump', 0.15299947835159103),\n",
       " ('fudgy', 0.15320813771517997)]"
      ]
     },
     "execution_count": 9,
     "metadata": {},
     "output_type": "execute_result"
    }
   ],
   "source": [
    "# Words we should not never start with.\n",
    "res = sorted(clean_word_list, key = lambda x: get_total_prob(x.replace('\\n', '')), reverse = False)[:5]\n",
    "[(r,get_total_prob(r)) for r in res]"
   ]
  },
  {
   "cell_type": "code",
   "execution_count": 10,
   "metadata": {
    "colab": {
     "base_uri": "https://localhost:8080/"
    },
    "execution": {
     "iopub.execute_input": "2022-02-12T09:30:56.194432Z",
     "iopub.status.busy": "2022-02-12T09:30:56.194212Z",
     "iopub.status.idle": "2022-02-12T09:30:56.201662Z",
     "shell.execute_reply": "2022-02-12T09:30:56.201181Z",
     "shell.execute_reply.started": "2022-02-12T09:30:56.194409Z"
    },
    "id": "SydBKa5H_T9-",
    "outputId": "f06563dd-12cd-40a5-cead-33f1c69526d7",
    "tags": []
   },
   "outputs": [
    {
     "data": {
      "text/plain": [
       "[('until', 0.25545122587376107),\n",
       " ('unlit', 0.25545122587376107),\n",
       " ('linty', 0.2436619718309859),\n",
       " ('glint', 0.24016692749087115),\n",
       " ('tunic', 0.23969744392279604)]"
      ]
     },
     "execution_count": 10,
     "metadata": {},
     "output_type": "execute_result"
    }
   ],
   "source": [
    "# Let's Play\n",
    "## If we start with the most likely word 'arose'\n",
    "## what would the 2nd word be - i.e. with the least surprise, eliminating the letters already in the 1st word.\n",
    "chars='arose'\n",
    "\n",
    "res = sorted([w for w in clean_word_list if not any([char in w for char in chars])], key = lambda x: get_total_prob(x.replace('\\n', '')), reverse = True)[:5]\n",
    "[(r,get_total_prob(r)) for r in res]"
   ]
  },
  {
   "cell_type": "markdown",
   "metadata": {
    "execution": {
     "iopub.execute_input": "2022-02-12T09:03:28.666449Z",
     "iopub.status.busy": "2022-02-12T09:03:28.666232Z",
     "iopub.status.idle": "2022-02-12T09:03:28.811855Z",
     "shell.execute_reply": "2022-02-12T09:03:28.811260Z",
     "shell.execute_reply.started": "2022-02-12T09:03:28.666427Z"
    },
    "id": "TyXfrRaA9yjR"
   },
   "source": [
    "## ok - 1.arose 2. until ...\n",
    "## Let's play...\n",
    "\n",
    "![alt text](wordle3.png \"Wordle\")"
   ]
  },
  {
   "cell_type": "markdown",
   "metadata": {},
   "source": []
  }
 ],
 "metadata": {
  "colab": {
   "name": "wordle_entropy_test.ipynb",
   "provenance": [],
   "toc_visible": true
  },
  "kernelspec": {
   "display_name": "Python 3",
   "language": "python",
   "name": "python3"
  },
  "language_info": {
   "codemirror_mode": {
    "name": "ipython",
    "version": 3
   },
   "file_extension": ".py",
   "mimetype": "text/x-python",
   "name": "python",
   "nbconvert_exporter": "python",
   "pygments_lexer": "ipython3",
   "version": "3.7.11"
  }
 },
 "nbformat": 4,
 "nbformat_minor": 4
}
