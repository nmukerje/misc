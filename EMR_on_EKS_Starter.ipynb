{
 "cells": [
  {
   "cell_type": "markdown",
   "metadata": {},
   "source": [
    "# Spark on Amazon EMR-on-EKS Starter Notebook\n",
    "\n",
    "## Table of Contents:\n",
    "\n",
    "1. [Overview](#Overview)\n",
    "2. [Dependencies](#Dependencies) <br>\n",
    "2.1. [Install the AWS CLI](#Install-the-AWS-CLI) <br>\n",
    "2.2. [Install or Upgrade eksctl](#Install-or-Upgrade-eksctl) <br>\n",
    "2.3. [Install kubectl](#Install-kubectl) <br>\n",
    "2.4. [Configure AWS Credentials](#Configure-AWS-Credentials) <br>\n",
    "3. [Launch an Amazon EKS Cluster](#Launch-an-Amazon-EKS-Cluster)\n",
    "4. [Create Amazon EMR Virtual Clusters](#Create-Amazon-EMR-Virtual-Clusters)\n",
    "5. [Submit Spark Jobs](#Submit-Spark-Jobs)\n",
    "6. [Clean Up Resources](#CleanUp-Resources)"
   ]
  },
  {
   "cell_type": "markdown",
   "metadata": {},
   "source": [
    "## Overview\n",
    "\n",
    "This notebook gets you started on Amazon EMR on EKS from a SageMaker notebook instance launched in a VPC.\n",
    "\n",
    "Useful Links to read later:\n",
    "- EKS Getting Started : https://docs.aws.amazon.com/eks/latest/userguide/getting-started-eksctl.html\n",
    "- eksctl Introduction : https://eksctl.io/introduction/\n",
    "- EKS Workshop : https://www.eksworkshop.com/"
   ]
  },
  {
   "cell_type": "markdown",
   "metadata": {},
   "source": [
    "## Dependencies\n",
    "\n",
    "Let's install a Jupyter extension to get the time on each cell. This will help measure how long each step takes."
   ]
  },
  {
   "cell_type": "code",
   "execution_count": null,
   "metadata": {},
   "outputs": [],
   "source": [
    "!pip install jupyter_contrib_nbextensions\n",
    "!jupyter contrib nbextension install --user\n",
    "!jupyter nbextension enable execute_time/ExecuteTime"
   ]
  },
  {
   "cell_type": "markdown",
   "metadata": {},
   "source": [
    "<div class=\"alert alert-block alert-warning\">\n",
    "Note: Refresh your browser after you execute the cell above.\n",
    "</div>"
   ]
  },
  {
   "cell_type": "code",
   "execution_count": null,
   "metadata": {},
   "outputs": [],
   "source": [
    "!sudo apt update\n",
    "!sudo apt upgrade -y\n",
    "!sudo apt install -y curl"
   ]
  },
  {
   "cell_type": "markdown",
   "metadata": {},
   "source": [
    "### Install the AWS CLI\n",
    "\n",
    "Expected Versions : version 1.18.157 or later, or version 2.0.56 or later."
   ]
  },
  {
   "cell_type": "code",
   "execution_count": null,
   "metadata": {
    "ExecuteTime": {
     "end_time": "2021-01-20T17:43:35.397130Z",
     "start_time": "2021-01-20T17:43:18.988519Z"
    }
   },
   "outputs": [],
   "source": [
    "%%sh\n",
    "curl \"https://awscli.amazonaws.com/awscli-exe-linux-x86_64.zip\" -o \"awscliv2.zip\"\n",
    "unzip awscliv2.zip\n",
    "sudo ./aws/install"
   ]
  },
  {
   "cell_type": "code",
   "execution_count": null,
   "metadata": {
    "ExecuteTime": {
     "end_time": "2021-01-20T17:43:43.605143Z",
     "start_time": "2021-01-20T17:43:40.881757Z"
    }
   },
   "outputs": [],
   "source": [
    "!aws --version"
   ]
  },
  {
   "cell_type": "markdown",
   "metadata": {},
   "source": [
    "### Install or Upgrade eksctl"
   ]
  },
  {
   "cell_type": "code",
   "execution_count": null,
   "metadata": {
    "ExecuteTime": {
     "end_time": "2021-01-20T17:43:59.292397Z",
     "start_time": "2021-01-20T17:43:53.156360Z"
    }
   },
   "outputs": [],
   "source": [
    "%%sh\n",
    "curl --silent --location \"https://github.com/weaveworks/eksctl/releases/latest/download/eksctl_$(uname -s)_amd64.tar.gz\" | tar xz -C /tmp\n",
    "sudo mv /tmp/eksctl /usr/local/bin"
   ]
  },
  {
   "cell_type": "code",
   "execution_count": null,
   "metadata": {
    "ExecuteTime": {
     "end_time": "2021-01-20T17:44:05.583220Z",
     "start_time": "2021-01-20T17:44:04.628945Z"
    }
   },
   "outputs": [],
   "source": [
    "!eksctl version"
   ]
  },
  {
   "cell_type": "markdown",
   "metadata": {},
   "source": [
    "### Install kubectl"
   ]
  },
  {
   "cell_type": "code",
   "execution_count": null,
   "metadata": {
    "ExecuteTime": {
     "end_time": "2021-01-20T17:44:27.102566Z",
     "start_time": "2021-01-20T17:44:12.181924Z"
    }
   },
   "outputs": [],
   "source": [
    "%%sh\n",
    "curl -o kubectl https://amazon-eks.s3.us-west-2.amazonaws.com/1.18.8/2020-09-18/bin/linux/amd64/kubectl\n",
    "chmod +x ./kubectl\n",
    "sudo mv ./kubectl /usr/local/bin"
   ]
  },
  {
   "cell_type": "code",
   "execution_count": null,
   "metadata": {
    "ExecuteTime": {
     "end_time": "2021-01-20T17:44:37.837850Z",
     "start_time": "2021-01-20T17:44:36.909658Z"
    }
   },
   "outputs": [],
   "source": [
    "!kubectl version --short --client"
   ]
  },
  {
   "cell_type": "markdown",
   "metadata": {},
   "source": [
    "### Configure AWS Credentials\n",
    "\n",
    "Create a local AWS Profile running the following on the Jupyter Terminal (Jupyter Home -> New -> Terminal):\n",
    "\n",
    "```\n",
    "$>aws configure\n",
    "```\n",
    "\n",
    "The ~/.aws/credentials file should have an entry like below:\n",
    "\n",
    "```\n",
    "[default]\n",
    "aws_access_key_id = <your access key>\n",
    "aws_secret_access_key = <your secret id>\n",
    "region = us-west-2\n",
    "```\n",
    "\n",
    "## Launch an Amazon EKS Cluster\n",
    "\n",
    "\n",
    "**Here we launch our EKS Cluster with 3 nodes of m5.2xlarge.** EKS will launch it's own VPC which is recommended,  \n",
    "\n",
    "**This launches 2 CloudFormation templates and should take around 15-20 mins.**\n",
    "\n",
    "- Make sure your account is under the VPC and Elastic IP limits.\n",
    "- Create an EC2 Keypair (e.g. **vm_oregon** is my keypair)"
   ]
  },
  {
   "cell_type": "code",
   "execution_count": null,
   "metadata": {
    "ExecuteTime": {
     "end_time": "2021-01-20T17:44:45.455691Z",
     "start_time": "2021-01-20T17:44:44.542245Z"
    }
   },
   "outputs": [],
   "source": [
    "!eksctl version"
   ]
  },
  {
   "cell_type": "code",
   "execution_count": null,
   "metadata": {
    "ExecuteTime": {
     "end_time": "2021-01-20T18:11:29.626618Z",
     "start_time": "2021-01-20T17:52:51.821180Z"
    }
   },
   "outputs": [],
   "source": [
    "!eksctl create cluster \\\n",
    "--name <eks-cluster-name> \\\n",
    "--version 1.18 \\\n",
    "--region us-west-2 \\\n",
    "--nodegroup-name linux-nodes \\\n",
    "--node-type m5.2xlarge \\\n",
    "--nodes 3 \\\n",
    "--nodes-min 1 \\\n",
    "--nodes-max 4 \\\n",
    "--ssh-access \\\n",
    "--ssh-public-key vm_oregon \\\n",
    "--managed"
   ]
  },
  {
   "cell_type": "code",
   "execution_count": null,
   "metadata": {
    "ExecuteTime": {
     "end_time": "2021-01-20T18:12:48.999667Z",
     "start_time": "2021-01-20T18:12:47.936293Z"
    }
   },
   "outputs": [],
   "source": [
    "!kubectl config get-clusters"
   ]
  },
  {
   "cell_type": "code",
   "execution_count": null,
   "metadata": {
    "ExecuteTime": {
     "end_time": "2021-01-20T18:12:54.019579Z",
     "start_time": "2021-01-20T18:12:51.402914Z"
    }
   },
   "outputs": [],
   "source": [
    "!kubectl get namespace"
   ]
  },
  {
   "cell_type": "markdown",
   "metadata": {},
   "source": [
    "### Create Amazon EMR Virtual Clusters\n",
    "\n",
    "We will launch the EMR Virtual Cluster in the 'default' namespace."
   ]
  },
  {
   "cell_type": "code",
   "execution_count": null,
   "metadata": {
    "ExecuteTime": {
     "end_time": "2021-01-20T18:16:14.114692Z",
     "start_time": "2021-01-20T18:16:10.930765Z"
    }
   },
   "outputs": [],
   "source": [
    "!eksctl create iamidentitymapping \\\n",
    "    --cluster <eks-cluster-name> \\\n",
    "    --namespace default \\\n",
    "    --service-name \"emr-containers\""
   ]
  },
  {
   "cell_type": "code",
   "execution_count": null,
   "metadata": {
    "ExecuteTime": {
     "end_time": "2021-01-20T18:17:16.751227Z",
     "start_time": "2021-01-20T18:17:13.752593Z"
    }
   },
   "outputs": [],
   "source": [
    "!aws emr-containers create-virtual-cluster \\\n",
    "--name <emr-virtual-cluster-name> \\\n",
    "--container-provider '{\"id\": \"<eks-cluster-name>\",\"type\": \"EKS\",\"info\": {\"eksInfo\": {\"namespace\": \"default\"}} }'"
   ]
  },
  {
   "cell_type": "markdown",
   "metadata": {
    "ExecuteTime": {
     "end_time": "2021-01-20T18:18:07.866732Z",
     "start_time": "2021-01-20T18:18:07.749598Z"
    }
   },
   "source": [
    "Our EMR Virtual Cluster should be up and running. Let's first get familiar with some commands before we submit Spark jobs."
   ]
  },
  {
   "cell_type": "code",
   "execution_count": null,
   "metadata": {
    "ExecuteTime": {
     "end_time": "2021-01-20T18:19:15.033900Z",
     "start_time": "2021-01-20T18:19:12.845804Z"
    },
    "scrolled": true
   },
   "outputs": [],
   "source": [
    "!aws emr-containers describe-virtual-cluster --id <emr-virtual-cluster-id>"
   ]
  },
  {
   "cell_type": "markdown",
   "metadata": {},
   "source": [
    "## Submit Spark Jobs\n",
    "\n",
    "### Setup the Spark Job Execution Role\n",
    "\n",
    "Let's now submit some Spark jobs:\n",
    "\n",
    "First, we will need to create an EMR Spark Job Execution Role with the IAM Policy below.\n",
    "\n",
    "```\n",
    "{\n",
    "    \"Version\": \"2012-10-17\",\n",
    "    \"Statement\": [\n",
    "        {\n",
    "            \"Effect\": \"Allow\",\n",
    "            \"Action\": [\n",
    "                \"s3:PutObject\",\n",
    "                \"s3:GetObject\",\n",
    "                \"s3:ListBucket\"\n",
    "            ],\n",
    "            \"Resource\": \"*\"\n",
    "        },\n",
    "        {\n",
    "            \"Effect\": \"Allow\",\n",
    "            \"Action\": [\n",
    "                \"logs:PutLogEvents\",\n",
    "                \"logs:CreateLogStream\",\n",
    "                \"logs:DescribeLogGroups\",\n",
    "                \"logs:DescribeLogStreams\"\n",
    "            ],\n",
    "            \"Resource\": [\n",
    "                \"arn:aws:logs:*:*:*\"\n",
    "            ]\n",
    "        }\n",
    "    ]\n",
    "} \n",
    "```\n",
    "\n",
    "Navigate to the IAM console to create the role. Let's call the IAM Role `EMR_EKS_Job_Execution_Role`.\n",
    "\n",
    "### Setup the Trust Policy for the IAM Job Execution Role"
   ]
  },
  {
   "cell_type": "code",
   "execution_count": null,
   "metadata": {
    "ExecuteTime": {
     "end_time": "2021-01-20T18:22:19.548952Z",
     "start_time": "2021-01-20T18:22:16.887031Z"
    }
   },
   "outputs": [],
   "source": [
    "!aws emr-containers update-role-trust-policy \\\n",
    "       --cluster-name <eks-cluster-name> \\\n",
    "       --namespace default \\\n",
    "       --role-name EMR_EKS_Job_Execution_Role"
   ]
  },
  {
   "cell_type": "markdown",
   "metadata": {},
   "source": [
    "### Enable IAM Roles for Service Accounts (IRSA) on the EKS cluster "
   ]
  },
  {
   "cell_type": "code",
   "execution_count": null,
   "metadata": {
    "ExecuteTime": {
     "end_time": "2021-01-20T18:34:39.465140Z",
     "start_time": "2021-01-20T18:34:36.546934Z"
    }
   },
   "outputs": [],
   "source": [
    "!eksctl utils associate-iam-oidc-provider --cluster <eks-cluster-name> --approve"
   ]
  },
  {
   "cell_type": "markdown",
   "metadata": {},
   "source": [
    "### Submit and Monitor the Spark Job"
   ]
  },
  {
   "cell_type": "code",
   "execution_count": null,
   "metadata": {
    "ExecuteTime": {
     "end_time": "2021-01-20T18:35:25.756652Z",
     "start_time": "2021-01-20T18:35:23.261403Z"
    }
   },
   "outputs": [],
   "source": [
    "!aws emr-containers start-job-run \\\n",
    "--virtual-cluster-id <emr-virtual-cluster-id> \\\n",
    "--cli-input-json file://./start-job-run-request.json"
   ]
  },
  {
   "cell_type": "code",
   "execution_count": null,
   "metadata": {
    "ExecuteTime": {
     "end_time": "2021-01-20T18:36:53.168108Z",
     "start_time": "2021-01-20T18:36:51.087490Z"
    }
   },
   "outputs": [],
   "source": [
    "!aws emr-containers  describe-job-run --virtual-cluster-id <emr-virtual-cluster-id> --id <job-run_id>"
   ]
  },
  {
   "cell_type": "markdown",
   "metadata": {},
   "source": [
    "You can navigate to the Spark History Server from the EMR Console.\n",
    "\n",
    "EMR Console -> EMR on EKS -> Virtual Clusters -> Select the EMR Cluster -> Job Runs -> Logs Runs for the Job."
   ]
  },
  {
   "cell_type": "markdown",
   "metadata": {},
   "source": [
    "## Clean Up Resources\n",
    "\n",
    "### Delete the EMR Virtual Cluster"
   ]
  },
  {
   "cell_type": "code",
   "execution_count": null,
   "metadata": {
    "ExecuteTime": {
     "end_time": "2021-01-20T18:38:11.596277Z",
     "start_time": "2021-01-20T18:38:09.451307Z"
    }
   },
   "outputs": [],
   "source": [
    "!aws emr-containers delete-virtual-cluster --id <emr-virtual-cluster-id>"
   ]
  },
  {
   "cell_type": "markdown",
   "metadata": {},
   "source": [
    "Delete the CloudFormation templates from the CloudFormation Console."
   ]
  }
 ],
 "metadata": {
  "kernelspec": {
   "display_name": "Python 3",
   "language": "python",
   "name": "python3"
  },
  "language_info": {
   "codemirror_mode": {
    "name": "ipython",
    "version": 3
   },
   "file_extension": ".py",
   "mimetype": "text/x-python",
   "name": "python",
   "nbconvert_exporter": "python",
   "pygments_lexer": "ipython3",
   "version": "3.8.6"
  }
 },
 "nbformat": 4,
 "nbformat_minor": 4
}
