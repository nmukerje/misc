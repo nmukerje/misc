{
 "cells": [
  {
   "cell_type": "markdown",
   "id": "4700b1f7-26d1-4aba-a524-20e67dce2fd5",
   "metadata": {},
   "source": [
    "# Build Python packages into a Python virtual environment archive\n",
    "\n",
    "Usage:\n",
    "\n",
    "```\n",
    "%%build_pyspark_dependencies s3://mybucket/artifacts/pyspark/\n",
    "pmdarima==1.8.5\n",
    "pandas==1.2.5\n",
    "matplotlib==3.5.0\n",
    "```"
   ]
  },
  {
   "cell_type": "code",
   "execution_count": 1,
   "id": "aa178db8-67a0-4e17-ab5e-1f4dad6cde68",
   "metadata": {
    "execution": {
     "iopub.execute_input": "2022-05-01T00:53:25.368881Z",
     "iopub.status.busy": "2022-05-01T00:53:25.368685Z",
     "iopub.status.idle": "2022-05-01T00:53:25.725186Z",
     "shell.execute_reply": "2022-05-01T00:53:25.724197Z",
     "shell.execute_reply.started": "2022-05-01T00:53:25.368828Z"
    },
    "tags": []
   },
   "outputs": [
    {
     "name": "stdout",
     "output_type": "stream",
     "text": [
      "The mount directory is already mounted. Skipping mounting.\n"
     ]
    }
   ],
   "source": [
    "%mount_workspace_dir ./Experiments/magics\n",
    "%reload_ext build_pyspark_virtualenv"
   ]
  },
  {
   "cell_type": "code",
   "execution_count": 2,
   "id": "5623dfac-bd6f-49aa-b880-b6cf397795ac",
   "metadata": {
    "execution": {
     "iopub.execute_input": "2022-05-01T00:53:25.726400Z",
     "iopub.status.busy": "2022-05-01T00:53:25.726207Z",
     "iopub.status.idle": "2022-05-01T00:53:25.732078Z",
     "shell.execute_reply": "2022-05-01T00:53:25.731560Z",
     "shell.execute_reply.started": "2022-05-01T00:53:25.726376Z"
    },
    "tags": []
   },
   "outputs": [
    {
     "data": {
      "text/plain": [
       "\u001b[0;31mDocstring:\u001b[0m\n",
       "Builds python dependencies into a virtual environment archive.\n",
       "\n",
       "This function lets you specify python packages, builds a virtual\n",
       "environment archive after installing the packages using pip commands, \n",
       "uploads the archive to the specified S3 location. It shows the \n",
       "installation progess of each package installation and in case \n",
       "of any error, shows the error message and aborts the build.\n",
       "\n",
       " %%build_pyspark_virtualenv s3_location [-v|--verbose]\n",
       " \n",
       " if -v or --verbose is passed, then you can see the commands being executed.\n",
       " \n",
       " Examples\n",
       " --------\n",
       " %%build_pyspark_virtualenv s3://mybucket/venv_archives/\n",
       " pmdarima==1.8.5\n",
       " # sample comment\n",
       " pandas==1.2.5\n",
       " matplotlib==3.5.0\n",
       " \n",
       "\u001b[0;31mFile:\u001b[0m      ~/e-6G46Q5HFLP71DU7ZW83CC7WFV/build_pyspark_virtualenv.py\n"
      ]
     },
     "metadata": {},
     "output_type": "display_data"
    }
   ],
   "source": [
    "%%build_pyspark_virtualenv?"
   ]
  },
  {
   "cell_type": "code",
   "execution_count": 3,
   "id": "e4c483c2-6c93-431c-b239-933df99269b9",
   "metadata": {
    "execution": {
     "iopub.execute_input": "2022-05-01T00:53:25.733300Z",
     "iopub.status.busy": "2022-05-01T00:53:25.733112Z",
     "iopub.status.idle": "2022-05-01T00:54:15.910225Z",
     "shell.execute_reply": "2022-05-01T00:54:15.909522Z",
     "shell.execute_reply.started": "2022-05-01T00:53:25.733281Z"
    },
    "tags": []
   },
   "outputs": [
    {
     "name": "stdout",
     "output_type": "stream",
     "text": [
      "Packages to install : pmdarima==1.8.5;pandas==1.2.5;matplotlib==3.5.0\n",
      "Target S3 location : s3://mybucket/artifacts/pyspark/\n",
      "\n"
     ]
    },
    {
     "data": {
      "application/vnd.jupyter.widget-view+json": {
       "model_id": "87eecec526264416b6da034932424ec5",
       "version_major": 2,
       "version_minor": 0
      },
      "text/plain": [
       "  0%|          | 0/2 [00:00<?, ?it/s]"
      ]
     },
     "metadata": {},
     "output_type": "display_data"
    },
    {
     "data": {
      "application/vnd.jupyter.widget-view+json": {
       "model_id": "c6b140d8fa0d42658684f2deacc02679",
       "version_major": 2,
       "version_minor": 0
      },
      "text/plain": [
       "  0%|          | 0/1 [00:00<?, ?it/s]"
      ]
     },
     "metadata": {},
     "output_type": "display_data"
    },
    {
     "data": {
      "application/vnd.jupyter.widget-view+json": {
       "model_id": "238772116da241dcb2057fe226a33e44",
       "version_major": 2,
       "version_minor": 0
      },
      "text/plain": [
       "  0%|          | 0/1 [00:00<?, ?it/s]"
      ]
     },
     "metadata": {},
     "output_type": "display_data"
    },
    {
     "data": {
      "application/vnd.jupyter.widget-view+json": {
       "model_id": "ad3e0cf20ea1416b94796791016304c9",
       "version_major": 2,
       "version_minor": 0
      },
      "text/plain": [
       "  0%|          | 0/1 [00:00<?, ?it/s]"
      ]
     },
     "metadata": {},
     "output_type": "display_data"
    },
    {
     "data": {
      "application/vnd.jupyter.widget-view+json": {
       "model_id": "7a3596f034a54450baccca1c958257c0",
       "version_major": 2,
       "version_minor": 0
      },
      "text/plain": [
       "  0%|          | 0/1 [00:00<?, ?it/s]"
      ]
     },
     "metadata": {},
     "output_type": "display_data"
    },
    {
     "data": {
      "application/vnd.jupyter.widget-view+json": {
       "model_id": "b69ffa8343784e8783ddb8911dd942c7",
       "version_major": 2,
       "version_minor": 0
      },
      "text/plain": [
       "  0%|          | 0/1 [00:00<?, ?it/s]"
      ]
     },
     "metadata": {},
     "output_type": "display_data"
    },
    {
     "name": "stdout",
     "output_type": "stream",
     "text": [
      "Archive Location : s3://mybucket/artifacts/pyspark/venv-unwazkatnd/venv_unwazkatnd.tar.gz\n",
      "\n",
      "For Spark on YARN, use config \"spark.yarn.dist.archives\":\"s3://mybucket/artifacts/pyspark/venv-unwazkatnd/venv_unwazkatnd.tar.gz\"\n",
      "For Spark on Kubernetes, use config \"spark.archives\":\"s3://mybucket/artifacts/pyspark/venv-unwazkatnd/venv_unwazkatnd.tar.gz\"\n"
     ]
    }
   ],
   "source": [
    "%%build_pyspark_virtualenv s3://mybucket/artifacts/pyspark/\n",
    "pmdarima==1.8.5\n",
    "# pandas package\n",
    "pandas==1.2.5\n",
    "matplotlib==3.5.0"
   ]
  },
  {
   "cell_type": "code",
   "execution_count": null,
   "id": "c7bf07a0-7436-4c5e-87a2-c0252082ce3a",
   "metadata": {
    "execution": {
     "iopub.execute_input": "2022-05-01T00:54:15.911514Z",
     "iopub.status.busy": "2022-05-01T00:54:15.911336Z"
    },
    "tags": []
   },
   "outputs": [
    {
     "name": "stdout",
     "output_type": "stream",
     "text": [
      "Packages to install : pmdarima==1.8.5;pandas==1.2.5;matplotlib==3.5.0\n",
      "Target S3 location : s3://mybucket/artifacts/pyspark/\n",
      "\n"
     ]
    },
    {
     "data": {
      "application/vnd.jupyter.widget-view+json": {
       "model_id": "581c5036348d4e398b31fd1c064b43e3",
       "version_major": 2,
       "version_minor": 0
      },
      "text/plain": [
       "  0%|          | 0/2 [00:00<?, ?it/s]"
      ]
     },
     "metadata": {},
     "output_type": "display_data"
    },
    {
     "name": "stdout",
     "output_type": "stream",
     "text": [
      "Initializing ... \n",
      "\n",
      "\trm -fr /home/emr-notebook/venvs/venv-upsqjeilgt \n",
      "\tmkdir -p /home/emr-notebook/venvs/venv-upsqjeilgt\n",
      "\texit_code : 0 \n",
      "\n",
      "Initializing venv ... \n",
      "\n",
      "\tvirtualenv -p python3 /home/emr-notebook/venvs/venv-upsqjeilgt \n",
      "\tsource /home/emr-notebook/venvs/venv-upsqjeilgt/bin/activate \n",
      "\tpip3 install --upgrade pip \n",
      "\tpip3 install venv-pack\n",
      "\texit_code : 0 \n",
      "\n"
     ]
    },
    {
     "data": {
      "application/vnd.jupyter.widget-view+json": {
       "model_id": "5ddcce0ce16b454fa82d31ab05b0627b",
       "version_major": 2,
       "version_minor": 0
      },
      "text/plain": [
       "  0%|          | 0/1 [00:00<?, ?it/s]"
      ]
     },
     "metadata": {},
     "output_type": "display_data"
    },
    {
     "name": "stdout",
     "output_type": "stream",
     "text": [
      "Installing pmdarima==1.8.5 ... \n",
      "\n",
      "\tsource /home/emr-notebook/venvs/venv-upsqjeilgt/bin/activate \n",
      "\tpip3 install pmdarima==1.8.5\n"
     ]
    }
   ],
   "source": [
    "%%build_pyspark_virtualenv s3://mybucket/artifacts/pyspark/  -v\n",
    "pmdarima==1.8.5\n",
    "# pandas package\n",
    "pandas==1.2.5\n",
    "matplotlib==3.5.0"
   ]
  },
  {
   "cell_type": "code",
   "execution_count": null,
   "id": "8661649b-9245-404e-9bd1-4da82d38a676",
   "metadata": {
    "tags": []
   },
   "outputs": [],
   "source": [
    "%%build_pyspark_virtualenv s3://mybucket/artifacts/pyspark/\n",
    "pmdarima==1.8.5\n",
    "# bad pandas package version\n",
    "pandas==4.2.5\n",
    "matplotlib==3.5.0"
   ]
  }
 ],
 "metadata": {
  "kernelspec": {
   "display_name": "Python 3",
   "language": "python",
   "name": "python3"
  },
  "language_info": {
   "codemirror_mode": {
    "name": "ipython",
    "version": 3
   },
   "file_extension": ".py",
   "mimetype": "text/x-python",
   "name": "python",
   "nbconvert_exporter": "python",
   "pygments_lexer": "ipython3",
   "version": "3.7.11"
  }
 },
 "nbformat": 4,
 "nbformat_minor": 5
}
