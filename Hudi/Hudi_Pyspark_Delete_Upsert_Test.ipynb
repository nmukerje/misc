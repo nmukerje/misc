{
 "cells": [
  {
   "cell_type": "code",
   "execution_count": null,
   "id": "849325a3",
   "metadata": {
    "ExecuteTime": {
     "end_time": "2021-07-21T18:35:37.119677Z",
     "start_time": "2021-07-21T18:34:55.266801Z"
    }
   },
   "outputs": [],
   "source": [
    "%%configure -f\n",
    "{\n",
    "    \"conf\":  { \n",
    "             \"spark.jars\":\"hdfs:///httpclient-4.5.9.jar,hdfs:///hudi-spark-bundle.jar,hdfs:///spark-avro.jar,\",\n",
    "             \"spark.serializer\":\"org.apache.spark.serializer.KryoSerializer\",\n",
    "             \"spark.sql.hive.convertMetastoreParquet\":\"false\"\n",
    "           } \n",
    "}"
   ]
  },
  {
   "cell_type": "code",
   "execution_count": 88,
   "id": "3cacdede",
   "metadata": {
    "ExecuteTime": {
     "end_time": "2021-07-21T18:35:45.261538Z",
     "start_time": "2021-07-21T18:35:45.235647Z"
    }
   },
   "outputs": [
    {
     "data": {
      "application/vnd.jupyter.widget-view+json": {
       "model_id": "",
       "version_major": 2,
       "version_minor": 0
      },
      "text/plain": [
       "FloatProgress(value=0.0, bar_style='info', description='Progress:', layout=Layout(height='25px', width='50%'),…"
      ]
     },
     "metadata": {},
     "output_type": "display_data"
    },
    {
     "name": "stdout",
     "output_type": "stream",
     "text": [
      "'3.1.1-amzn-0'"
     ]
    }
   ],
   "source": [
    "spark.version"
   ]
  },
  {
   "cell_type": "code",
   "execution_count": 89,
   "id": "1bfa7146",
   "metadata": {
    "ExecuteTime": {
     "end_time": "2021-07-21T18:35:47.120226Z",
     "start_time": "2021-07-21T18:35:47.088802Z"
    }
   },
   "outputs": [
    {
     "data": {
      "application/vnd.jupyter.widget-view+json": {
       "model_id": "",
       "version_major": 2,
       "version_minor": 0
      },
      "text/plain": [
       "FloatProgress(value=0.0, bar_style='info', description='Progress:', layout=Layout(height='25px', width='50%'),…"
      ]
     },
     "metadata": {},
     "output_type": "display_data"
    }
   ],
   "source": [
    "# General Constants\n",
    "HUDI_FORMAT = \"org.apache.hudi\"\n",
    "TABLE_NAME = \"hoodie.table.name\"\n",
    "RECORDKEY_FIELD_OPT_KEY = \"hoodie.datasource.write.recordkey.field\"\n",
    "PRECOMBINE_FIELD_OPT_KEY = \"hoodie.datasource.write.precombine.field\"\n",
    "OPERATION_OPT_KEY = \"hoodie.datasource.write.operation\"\n",
    "BULK_INSERT_OPERATION_OPT_VAL = \"bulk_insert\"\n",
    "UPSERT_OPERATION_OPT_VAL = \"upsert\"\n",
    "DELETE_OPERATION_OPT_VAL = \"delete\"\n",
    "BULK_INSERT_PARALLELISM = \"hoodie.bulkinsert.shuffle.parallelism\"\n",
    "UPSERT_PARALLELISM = \"hoodie.upsert.shuffle.parallelism\"\n",
    "S3_CONSISTENCY_CHECK = \"hoodie.consistency.check.enabled\"\n",
    "HUDI_CLEANER_POLICY = \"hoodie.cleaner.policy\"\n",
    "KEEP_LATEST_COMMITS = \"KEEP_LATEST_COMMITS\"\n",
    "HUDI_COMMITS_RETAINED = \"hoodie.cleaner.commits.retained\"\n",
    "PAYLOAD_CLASS_OPT_KEY = \"hoodie.datasource.write.payload.class\"\n",
    "EMPTY_PAYLOAD_CLASS_OPT_VAL = \"org.apache.hudi.common.model.EmptyHoodieRecordPayload\"\n",
    "\n",
    "# Hive Constants\n",
    "HIVE_SYNC_ENABLED_OPT_KEY=\"hoodie.datasource.hive_sync.enable\"\n",
    "HIVE_PARTITION_FIELDS_OPT_KEY=\"hoodie.datasource.hive_sync.partition_fields\"\n",
    "HIVE_ASSUME_DATE_PARTITION_OPT_KEY=\"hoodie.datasource.hive_sync.assume_date_partitioning\"\n",
    "HIVE_PARTITION_EXTRACTOR_CLASS_OPT_KEY=\"hoodie.datasource.hive_sync.partition_extractor_class\"\n",
    "HIVE_TABLE_OPT_KEY=\"hoodie.datasource.hive_sync.table\"\n",
    "\n",
    "# Partition Constants\n",
    "NONPARTITION_EXTRACTOR_CLASS_OPT_VAL=\"org.apache.hudi.hive.NonPartitionedExtractor\"\n",
    "MULIPART_KEYS_EXTRACTOR_CLASS_OPT_VAL=\"org.apache.hudi.hive.MultiPartKeysValueExtractor\"\n",
    "KEYGENERATOR_CLASS_OPT_KEY=\"hoodie.datasource.write.keygenerator.class\"\n",
    "NONPARTITIONED_KEYGENERATOR_CLASS_OPT_VAL=\"org.apache.hudi.keygen.NonpartitionedKeyGenerator\"\n",
    "COMPLEX_KEYGENERATOR_CLASS_OPT_VAL=\"org.apache.hudi.ComplexKeyGenerator\"\n",
    "PARTITIONPATH_FIELD_OPT_KEY=\"hoodie.datasource.write.partitionpath.field\""
   ]
  },
  {
   "cell_type": "code",
   "execution_count": 91,
   "id": "1f34d2be",
   "metadata": {
    "ExecuteTime": {
     "end_time": "2021-07-21T18:36:06.252658Z",
     "start_time": "2021-07-21T18:36:00.992665Z"
    }
   },
   "outputs": [
    {
     "data": {
      "application/vnd.jupyter.widget-view+json": {
       "model_id": "",
       "version_major": 2,
       "version_minor": 0
      },
      "text/plain": [
       "FloatProgress(value=0.0, bar_style='info', description='Progress:', layout=Layout(height='25px', width='50%'),…"
      ]
     },
     "metadata": {},
     "output_type": "display_data"
    },
    {
     "name": "stdout",
     "output_type": "stream",
     "text": [
      "20\n",
      "+------------------+---+-----+---+---+----+\n",
      "|_hoodie_is_deleted| id|month| sk|txt|year|\n",
      "+------------------+---+-----+---+---+----+\n",
      "|             false|  0|    1|  0|  A|2019|\n",
      "|             false|  1|   10|  1|  B|2019|\n",
      "|             false|  2|   10|  2|  C|2019|\n",
      "|             false|  3|    6|  3|  D|2019|\n",
      "|             false|  4|    3|  4|  E|2019|\n",
      "+------------------+---+-----+---+---+----+\n",
      "only showing top 5 rows"
     ]
    }
   ],
   "source": [
    "import random\n",
    "\n",
    "## Generates Data - we are adding year and month columns this time.\n",
    "def get_json_data(start, count, increment=0):\n",
    "    data = [{\"id\": i, \"sk\": i+increment, \"txt\": chr(65 + (i % 26)), \"year\" : \"2019\", \"month\": random.randint(1,12) , \"_hoodie_is_deleted\": \"false\" } for i in range(start, start + count)]\n",
    "    return data\n",
    "\n",
    "# Creates the Dataframe\n",
    "def create_json_df(spark, data):\n",
    "    sc = spark.sparkContext\n",
    "    return spark.read.json(sc.parallelize(data, 2))\n",
    "\n",
    "df1 = create_json_df(spark, get_json_data(0, 20))\n",
    "print(df1.count())\n",
    "df1.show(5)"
   ]
  },
  {
   "cell_type": "code",
   "execution_count": 92,
   "id": "06df976e",
   "metadata": {
    "ExecuteTime": {
     "end_time": "2021-07-21T18:36:08.880239Z",
     "start_time": "2021-07-21T18:36:08.855247Z"
    }
   },
   "outputs": [
    {
     "data": {
      "application/vnd.jupyter.widget-view+json": {
       "model_id": "",
       "version_major": 2,
       "version_minor": 0
      },
      "text/plain": [
       "FloatProgress(value=0.0, bar_style='info', description='Progress:', layout=Layout(height='25px', width='50%'),…"
      ]
     },
     "metadata": {},
     "output_type": "display_data"
    }
   ],
   "source": [
    "## CHANGE ME ##\n",
    "config = {\n",
    "    \"table_name\": \"test_hudi_partitioned_table_upsert\",\n",
    "    \"target\": \"s3://bucket/tmp/hudi/test_hudi_partitioned_table_upsert\",\n",
    "    \"primary_key\": \"id\",\n",
    "    \"sort_key\": \"sk\",\n",
    "    \"commits_to_retain\": \"2\",\n",
    "    \"partition_keys\" : \"year,month\"\n",
    "}"
   ]
  },
  {
   "cell_type": "code",
   "execution_count": 94,
   "id": "06d587bf",
   "metadata": {
    "ExecuteTime": {
     "end_time": "2021-07-21T18:36:21.994030Z",
     "start_time": "2021-07-21T18:36:21.764644Z"
    }
   },
   "outputs": [
    {
     "data": {
      "application/vnd.jupyter.widget-view+json": {
       "model_id": "",
       "version_major": 2,
       "version_minor": 0
      },
      "text/plain": [
       "FloatProgress(value=0.0, bar_style='info', description='Progress:', layout=Layout(height='25px', width='50%'),…"
      ]
     },
     "metadata": {},
     "output_type": "display_data"
    },
    {
     "name": "stdout",
     "output_type": "stream",
     "text": [
      "++\n",
      "||\n",
      "++\n",
      "++"
     ]
    }
   ],
   "source": [
    "spark.sql(\"drop table if exists \"+config['table_name']).show(100,False)"
   ]
  },
  {
   "cell_type": "code",
   "execution_count": 95,
   "id": "858eb057",
   "metadata": {
    "ExecuteTime": {
     "end_time": "2021-07-21T18:36:25.650195Z",
     "start_time": "2021-07-21T18:36:23.404037Z"
    }
   },
   "outputs": [
    {
     "data": {
      "application/vnd.jupyter.widget-view+json": {
       "model_id": "",
       "version_major": 2,
       "version_minor": 0
      },
      "text/plain": [
       "FloatProgress(value=0.0, bar_style='info', description='Progress:', layout=Layout(height='25px', width='50%'),…"
      ]
     },
     "metadata": {},
     "output_type": "display_data"
    },
    {
     "name": "stdout",
     "output_type": "stream",
     "text": [
      "+------------------+\n",
      "|      partitionKey|\n",
      "+------------------+\n",
      "| year=2019/month=1|\n",
      "|year=2019/month=10|\n",
      "|year=2019/month=10|\n",
      "| year=2019/month=6|\n",
      "| year=2019/month=3|\n",
      "+------------------+\n",
      "only showing top 5 rows"
     ]
    }
   ],
   "source": [
    "from pyspark.sql.functions import concat, col, lit\n",
    "\n",
    "hudiTablePartitionKey=\"partitionKey\"\n",
    "df1 = df1.withColumn(hudiTablePartitionKey,concat(lit(\"year=\"),col(\"year\"),lit(\"/month=\"),col(\"month\")))\n",
    "df1.select(hudiTablePartitionKey).show(5)"
   ]
  },
  {
   "cell_type": "code",
   "execution_count": 96,
   "id": "89ab6ea3",
   "metadata": {
    "ExecuteTime": {
     "end_time": "2021-07-21T18:36:51.150109Z",
     "start_time": "2021-07-21T18:36:27.836983Z"
    }
   },
   "outputs": [
    {
     "data": {
      "application/vnd.jupyter.widget-view+json": {
       "model_id": "",
       "version_major": 2,
       "version_minor": 0
      },
      "text/plain": [
       "FloatProgress(value=0.0, bar_style='info', description='Progress:', layout=Layout(height='25px', width='50%'),…"
      ]
     },
     "metadata": {},
     "output_type": "display_data"
    }
   ],
   "source": [
    "(df1.write.format(HUDI_FORMAT)\n",
    "      .option(PRECOMBINE_FIELD_OPT_KEY, config[\"sort_key\"])\n",
    "      .option(RECORDKEY_FIELD_OPT_KEY, config[\"primary_key\"])\n",
    "      .option(TABLE_NAME, config['table_name'])\n",
    "      .option(OPERATION_OPT_KEY, BULK_INSERT_OPERATION_OPT_VAL)\n",
    "      .option(BULK_INSERT_PARALLELISM, 3)\n",
    "      .option(HIVE_PARTITION_FIELDS_OPT_KEY, config[\"partition_keys\"])\n",
    "      .option(HIVE_TABLE_OPT_KEY,config['table_name'])\n",
    "      .option(HIVE_SYNC_ENABLED_OPT_KEY,\"true\")\n",
    "      .option(HIVE_PARTITION_EXTRACTOR_CLASS_OPT_KEY,MULIPART_KEYS_EXTRACTOR_CLASS_OPT_VAL)\n",
    "      .option(PARTITIONPATH_FIELD_OPT_KEY,\"partitionKey\")\n",
    "      .mode(\"Overwrite\")\n",
    "      .save(config['target']))"
   ]
  },
  {
   "cell_type": "code",
   "execution_count": 97,
   "id": "cbafe4db",
   "metadata": {
    "ExecuteTime": {
     "end_time": "2021-07-21T18:37:02.431486Z",
     "start_time": "2021-07-21T18:36:51.152432Z"
    }
   },
   "outputs": [
    {
     "data": {
      "application/vnd.jupyter.widget-view+json": {
       "model_id": "",
       "version_major": 2,
       "version_minor": 0
      },
      "text/plain": [
       "FloatProgress(value=0.0, bar_style='info', description='Progress:', layout=Layout(height='25px', width='50%'),…"
      ]
     },
     "metadata": {},
     "output_type": "display_data"
    },
    {
     "name": "stdout",
     "output_type": "stream",
     "text": [
      "+----+-----+-----------+\n",
      "|year|month|num_records|\n",
      "+----+-----+-----------+\n",
      "|2019|1    |1          |\n",
      "|2019|2    |1          |\n",
      "|2019|3    |1          |\n",
      "|2019|4    |1          |\n",
      "|2019|5    |5          |\n",
      "|2019|6    |3          |\n",
      "|2019|7    |1          |\n",
      "|2019|8    |2          |\n",
      "|2019|10   |2          |\n",
      "|2019|12   |3          |\n",
      "+----+-----+-----------+"
     ]
    }
   ],
   "source": [
    "spark.sql(\"Select year, month, count(*) as num_records from \"+config['table_name']+\" group by year, month order by month\").show(100,False)"
   ]
  },
  {
   "cell_type": "code",
   "execution_count": 98,
   "id": "34c832b6",
   "metadata": {
    "ExecuteTime": {
     "end_time": "2021-07-21T18:37:37.457680Z",
     "start_time": "2021-07-21T18:37:26.185484Z"
    }
   },
   "outputs": [
    {
     "data": {
      "application/vnd.jupyter.widget-view+json": {
       "model_id": "",
       "version_major": 2,
       "version_minor": 0
      },
      "text/plain": [
       "FloatProgress(value=0.0, bar_style='info', description='Progress:', layout=Layout(height='25px', width='50%'),…"
      ]
     },
     "metadata": {},
     "output_type": "display_data"
    },
    {
     "name": "stdout",
     "output_type": "stream",
     "text": [
      "root\n",
      " |-- id: long (nullable = true)\n",
      " |-- sk: long (nullable = true)\n",
      " |-- txt: string (nullable = true)\n",
      " |-- partitionkey: string (nullable = true)\n",
      " |-- year: string (nullable = true)\n",
      " |-- month: long (nullable = true)\n",
      "\n",
      "+---+---+---+-----------------+----+-----+------------------+\n",
      "| id| sk|txt|     partitionKey|year|month|_hoodie_is_deleted|\n",
      "+---+---+---+-----------------+----+-----+------------------+\n",
      "| 11| 11|  L|year=2019/month=6|2019|    6|              true|\n",
      "+---+---+---+-----------------+----+-----+------------------+"
     ]
    }
   ],
   "source": [
    "from pyspark.sql.functions import col,lit\n",
    "\n",
    "\n",
    "incoming_df=spark.sql(\"Select * from \"+config['table_name'] + \" limit 1\")\n",
    "hoodie_metadata_columns = [k.name for k in incoming_df.schema.fields if k.name.startswith(\"_hoodie_\")]\n",
    "incoming_df=incoming_df.drop(*hoodie_metadata_columns)\n",
    "incoming_df.printSchema()\n",
    "\n",
    "incoming_df = incoming_df.withColumn(hudiTablePartitionKey,concat(lit(\"year=\"),col(\"year\"),lit(\"/month=\"),col(\"month\")))\n",
    "\n",
    "incoming_df=incoming_df.withColumn(\"_hoodie_is_deleted\",lit(\"true\")).cache()\n",
    "incoming_df.show()"
   ]
  },
  {
   "cell_type": "code",
   "execution_count": 99,
   "id": "4b62a050",
   "metadata": {
    "ExecuteTime": {
     "end_time": "2021-07-21T18:38:41.571972Z",
     "start_time": "2021-07-21T18:38:30.296836Z"
    }
   },
   "outputs": [
    {
     "data": {
      "application/vnd.jupyter.widget-view+json": {
       "model_id": "",
       "version_major": 2,
       "version_minor": 0
      },
      "text/plain": [
       "FloatProgress(value=0.0, bar_style='info', description='Progress:', layout=Layout(height='25px', width='50%'),…"
      ]
     },
     "metadata": {},
     "output_type": "display_data"
    }
   ],
   "source": [
    "(incoming_df.write.format(HUDI_FORMAT)\n",
    "      .option(PRECOMBINE_FIELD_OPT_KEY, config[\"sort_key\"])\n",
    "      .option(RECORDKEY_FIELD_OPT_KEY, config[\"primary_key\"])\n",
    "      .option(TABLE_NAME, config['table_name'])\n",
    "      .option(OPERATION_OPT_KEY, UPSERT_OPERATION_OPT_VAL)\n",
    "      .option(UPSERT_PARALLELISM, 3)\n",
    "      .option(HIVE_PARTITION_FIELDS_OPT_KEY, config[\"partition_keys\"])\n",
    "      .option(HIVE_TABLE_OPT_KEY,config['table_name'])\n",
    "      .option(HIVE_SYNC_ENABLED_OPT_KEY,\"true\")\n",
    "      .option(HIVE_PARTITION_EXTRACTOR_CLASS_OPT_KEY,MULIPART_KEYS_EXTRACTOR_CLASS_OPT_VAL)\n",
    "      .option(PARTITIONPATH_FIELD_OPT_KEY,\"partitionKey\")\n",
    "      .mode(\"Append\")\n",
    "      .save(config['target']))"
   ]
  },
  {
   "cell_type": "code",
   "execution_count": 100,
   "id": "c8ba1436",
   "metadata": {
    "ExecuteTime": {
     "end_time": "2021-07-21T18:38:51.557852Z",
     "start_time": "2021-07-21T18:38:44.294292Z"
    }
   },
   "outputs": [
    {
     "data": {
      "application/vnd.jupyter.widget-view+json": {
       "model_id": "",
       "version_major": 2,
       "version_minor": 0
      },
      "text/plain": [
       "FloatProgress(value=0.0, bar_style='info', description='Progress:', layout=Layout(height='25px', width='50%'),…"
      ]
     },
     "metadata": {},
     "output_type": "display_data"
    },
    {
     "name": "stdout",
     "output_type": "stream",
     "text": [
      "+---+------------------+\n",
      "|id |_hoodie_is_deleted|\n",
      "+---+------------------+\n",
      "|11 |true              |\n",
      "+---+------------------+"
     ]
    }
   ],
   "source": [
    "spark.sql(\"Select id, _hoodie_is_deleted from \"+config['table_name']+\" where id = 11 \" ).show(100,False)"
   ]
  },
  {
   "cell_type": "code",
   "execution_count": 101,
   "id": "83fbe30e",
   "metadata": {
    "ExecuteTime": {
     "end_time": "2021-07-21T18:38:58.821423Z",
     "start_time": "2021-07-21T18:38:51.560006Z"
    }
   },
   "outputs": [
    {
     "data": {
      "application/vnd.jupyter.widget-view+json": {
       "model_id": "",
       "version_major": 2,
       "version_minor": 0
      },
      "text/plain": [
       "FloatProgress(value=0.0, bar_style='info', description='Progress:', layout=Layout(height='25px', width='50%'),…"
      ]
     },
     "metadata": {},
     "output_type": "display_data"
    },
    {
     "name": "stdout",
     "output_type": "stream",
     "text": [
      "+-------------------+------------------+-----------------+\n",
      "|_hoodie_commit_time|_hoodie_is_deleted|committed_records|\n",
      "+-------------------+------------------+-----------------+\n",
      "|20210721183627     |false             |19               |\n",
      "|20210721183830     |true              |1                |\n",
      "+-------------------+------------------+-----------------+"
     ]
    }
   ],
   "source": [
    "spark.sql(\"Select _hoodie_commit_time,_hoodie_is_deleted, count(1) as committed_records from \"\\\n",
    "          +config['table_name'] \\\n",
    "          + \" group by _hoodie_commit_time,_hoodie_is_deleted \").show(100,False)"
   ]
  },
  {
   "cell_type": "code",
   "execution_count": null,
   "id": "bcf8a51b",
   "metadata": {},
   "outputs": [],
   "source": []
  }
 ],
 "metadata": {
  "kernelspec": {
   "display_name": "Sparkmagic (PySpark)",
   "language": "python",
   "name": "pysparkkernel"
  },
  "language_info": {
   "codemirror_mode": {
    "name": "python",
    "version": 3
   },
   "file_extension": ".py",
   "mimetype": "text/x-python",
   "name": "pyspark",
   "pygments_lexer": "python3"
  }
 },
 "nbformat": 4,
 "nbformat_minor": 5
}
